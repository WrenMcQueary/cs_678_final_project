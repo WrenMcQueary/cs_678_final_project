{
 "cells": [
  {
   "attachments": {},
   "cell_type": "markdown",
   "metadata": {},
   "source": [
    "# Robustness check using [CheckList](https://github.com/marcotcr/checklist)\n",
    "\n",
    "Evaluate a LimitedInk DistilBERT model trained on the `movies` dataset.\n",
    "This notebook only tests the identifier (not the classifier), because the identifier is more interesting and is the novel contribution of the LimitedInk paper.\n",
    "\n",
    "Borrows heavily from [this tutorial notebook](https://github.com/marcotcr/checklist/blob/master/notebooks/tutorials/4.%20The%20CheckList%20process.ipynb)."
   ]
  },
  {
   "attachments": {},
   "cell_type": "markdown",
   "metadata": {},
   "source": [
    "## Task and model"
   ]
  },
  {
   "attachments": {},
   "cell_type": "markdown",
   "metadata": {},
   "source": [
    "Load the model and spacy"
   ]
  },
  {
   "cell_type": "code",
   "execution_count": 1,
   "metadata": {},
   "outputs": [
    {
     "name": "stdout",
     "output_type": "stream",
     "text": [
      "Requirement already satisfied: checklist in /home/wren/miniconda3/envs/cs_678_final_project_environment_ubuntu/lib/python3.7/site-packages (0.0.11)\n",
      "Requirement already satisfied: ipywidgets>=7.5 in /home/wren/miniconda3/envs/cs_678_final_project_environment_ubuntu/lib/python3.7/site-packages (from checklist) (8.0.6)\n",
      "Requirement already satisfied: iso-639 in /home/wren/miniconda3/envs/cs_678_final_project_environment_ubuntu/lib/python3.7/site-packages (from checklist) (0.4.5)\n",
      "Requirement already satisfied: patternfork-nosql in /home/wren/miniconda3/envs/cs_678_final_project_environment_ubuntu/lib/python3.7/site-packages (from checklist) (3.6)\n",
      "Requirement already satisfied: spacy>=2.2 in /home/wren/miniconda3/envs/cs_678_final_project_environment_ubuntu/lib/python3.7/site-packages (from checklist) (3.5.2)\n",
      "Requirement already satisfied: transformers>=2.8 in /home/wren/miniconda3/envs/cs_678_final_project_environment_ubuntu/lib/python3.7/site-packages (from checklist) (2.8.0)\n",
      "Requirement already satisfied: munch>=2.5 in /home/wren/miniconda3/envs/cs_678_final_project_environment_ubuntu/lib/python3.7/site-packages (from checklist) (2.5.0)\n",
      "Requirement already satisfied: numpy>=1.18 in /home/wren/miniconda3/envs/cs_678_final_project_environment_ubuntu/lib/python3.7/site-packages (from checklist) (1.21.5)\n",
      "Requirement already satisfied: jupyter>=1.0 in /home/wren/miniconda3/envs/cs_678_final_project_environment_ubuntu/lib/python3.7/site-packages (from checklist) (1.0.0)\n",
      "Requirement already satisfied: dill>=0.3.1 in /home/wren/miniconda3/envs/cs_678_final_project_environment_ubuntu/lib/python3.7/site-packages (from checklist) (0.3.6)\n",
      "Requirement already satisfied: traitlets>=4.3.1 in /home/wren/miniconda3/envs/cs_678_final_project_environment_ubuntu/lib/python3.7/site-packages (from ipywidgets>=7.5->checklist) (5.9.0)\n",
      "Requirement already satisfied: jupyterlab-widgets~=3.0.7 in /home/wren/miniconda3/envs/cs_678_final_project_environment_ubuntu/lib/python3.7/site-packages (from ipywidgets>=7.5->checklist) (3.0.7)\n",
      "Requirement already satisfied: ipython>=6.1.0 in /home/wren/miniconda3/envs/cs_678_final_project_environment_ubuntu/lib/python3.7/site-packages (from ipywidgets>=7.5->checklist) (7.34.0)\n",
      "Requirement already satisfied: widgetsnbextension~=4.0.7 in /home/wren/miniconda3/envs/cs_678_final_project_environment_ubuntu/lib/python3.7/site-packages (from ipywidgets>=7.5->checklist) (4.0.7)\n",
      "Requirement already satisfied: ipykernel>=4.5.1 in /home/wren/miniconda3/envs/cs_678_final_project_environment_ubuntu/lib/python3.7/site-packages (from ipywidgets>=7.5->checklist) (6.16.2)\n",
      "Requirement already satisfied: nbconvert in /home/wren/miniconda3/envs/cs_678_final_project_environment_ubuntu/lib/python3.7/site-packages (from jupyter>=1.0->checklist) (7.3.1)\n",
      "Requirement already satisfied: qtconsole in /home/wren/miniconda3/envs/cs_678_final_project_environment_ubuntu/lib/python3.7/site-packages (from jupyter>=1.0->checklist) (5.4.2)\n",
      "Requirement already satisfied: jupyter-console in /home/wren/miniconda3/envs/cs_678_final_project_environment_ubuntu/lib/python3.7/site-packages (from jupyter>=1.0->checklist) (6.6.3)\n",
      "Requirement already satisfied: notebook in /home/wren/miniconda3/envs/cs_678_final_project_environment_ubuntu/lib/python3.7/site-packages (from jupyter>=1.0->checklist) (6.5.4)\n",
      "Requirement already satisfied: six in /home/wren/miniconda3/envs/cs_678_final_project_environment_ubuntu/lib/python3.7/site-packages (from munch>=2.5->checklist) (1.16.0)\n",
      "Requirement already satisfied: thinc<8.2.0,>=8.1.8 in /home/wren/miniconda3/envs/cs_678_final_project_environment_ubuntu/lib/python3.7/site-packages (from spacy>=2.2->checklist) (8.1.9)\n",
      "Requirement already satisfied: preshed<3.1.0,>=3.0.2 in /home/wren/miniconda3/envs/cs_678_final_project_environment_ubuntu/lib/python3.7/site-packages (from spacy>=2.2->checklist) (3.0.8)\n",
      "Requirement already satisfied: pydantic!=1.8,!=1.8.1,<1.11.0,>=1.7.4 in /home/wren/miniconda3/envs/cs_678_final_project_environment_ubuntu/lib/python3.7/site-packages (from spacy>=2.2->checklist) (1.10.7)\n",
      "Requirement already satisfied: pathy>=0.10.0 in /home/wren/miniconda3/envs/cs_678_final_project_environment_ubuntu/lib/python3.7/site-packages (from spacy>=2.2->checklist) (0.10.1)\n",
      "Requirement already satisfied: spacy-loggers<2.0.0,>=1.0.0 in /home/wren/miniconda3/envs/cs_678_final_project_environment_ubuntu/lib/python3.7/site-packages (from spacy>=2.2->checklist) (1.0.4)\n",
      "Requirement already satisfied: setuptools in /home/wren/miniconda3/envs/cs_678_final_project_environment_ubuntu/lib/python3.7/site-packages (from spacy>=2.2->checklist) (65.6.3)\n",
      "Requirement already satisfied: cymem<2.1.0,>=2.0.2 in /home/wren/miniconda3/envs/cs_678_final_project_environment_ubuntu/lib/python3.7/site-packages (from spacy>=2.2->checklist) (2.0.7)\n",
      "Requirement already satisfied: jinja2 in /home/wren/miniconda3/envs/cs_678_final_project_environment_ubuntu/lib/python3.7/site-packages (from spacy>=2.2->checklist) (3.1.2)\n",
      "Requirement already satisfied: wasabi<1.2.0,>=0.9.1 in /home/wren/miniconda3/envs/cs_678_final_project_environment_ubuntu/lib/python3.7/site-packages (from spacy>=2.2->checklist) (1.1.1)\n",
      "Requirement already satisfied: requests<3.0.0,>=2.13.0 in /home/wren/miniconda3/envs/cs_678_final_project_environment_ubuntu/lib/python3.7/site-packages (from spacy>=2.2->checklist) (2.28.1)\n",
      "Requirement already satisfied: tqdm<5.0.0,>=4.38.0 in /home/wren/miniconda3/envs/cs_678_final_project_environment_ubuntu/lib/python3.7/site-packages (from spacy>=2.2->checklist) (4.64.1)\n",
      "Requirement already satisfied: srsly<3.0.0,>=2.4.3 in /home/wren/miniconda3/envs/cs_678_final_project_environment_ubuntu/lib/python3.7/site-packages (from spacy>=2.2->checklist) (2.4.6)\n",
      "Requirement already satisfied: packaging>=20.0 in /home/wren/miniconda3/envs/cs_678_final_project_environment_ubuntu/lib/python3.7/site-packages (from spacy>=2.2->checklist) (23.0)\n",
      "Requirement already satisfied: typer<0.8.0,>=0.3.0 in /home/wren/miniconda3/envs/cs_678_final_project_environment_ubuntu/lib/python3.7/site-packages (from spacy>=2.2->checklist) (0.7.0)\n",
      "Requirement already satisfied: typing-extensions<4.5.0,>=3.7.4.1 in /home/wren/miniconda3/envs/cs_678_final_project_environment_ubuntu/lib/python3.7/site-packages (from spacy>=2.2->checklist) (4.4.0)\n",
      "Requirement already satisfied: smart-open<7.0.0,>=5.2.1 in /home/wren/miniconda3/envs/cs_678_final_project_environment_ubuntu/lib/python3.7/site-packages (from spacy>=2.2->checklist) (6.3.0)\n",
      "Requirement already satisfied: catalogue<2.1.0,>=2.0.6 in /home/wren/miniconda3/envs/cs_678_final_project_environment_ubuntu/lib/python3.7/site-packages (from spacy>=2.2->checklist) (2.0.8)\n",
      "Requirement already satisfied: murmurhash<1.1.0,>=0.28.0 in /home/wren/miniconda3/envs/cs_678_final_project_environment_ubuntu/lib/python3.7/site-packages (from spacy>=2.2->checklist) (1.0.9)\n",
      "Requirement already satisfied: spacy-legacy<3.1.0,>=3.0.11 in /home/wren/miniconda3/envs/cs_678_final_project_environment_ubuntu/lib/python3.7/site-packages (from spacy>=2.2->checklist) (3.0.12)\n",
      "Requirement already satisfied: langcodes<4.0.0,>=3.2.0 in /home/wren/miniconda3/envs/cs_678_final_project_environment_ubuntu/lib/python3.7/site-packages (from spacy>=2.2->checklist) (3.3.0)\n",
      "Requirement already satisfied: boto3 in /home/wren/miniconda3/envs/cs_678_final_project_environment_ubuntu/lib/python3.7/site-packages (from transformers>=2.8->checklist) (1.24.28)\n",
      "Requirement already satisfied: filelock in /home/wren/miniconda3/envs/cs_678_final_project_environment_ubuntu/lib/python3.7/site-packages (from transformers>=2.8->checklist) (3.10.2)\n",
      "Requirement already satisfied: sentencepiece in /home/wren/miniconda3/envs/cs_678_final_project_environment_ubuntu/lib/python3.7/site-packages (from transformers>=2.8->checklist) (0.1.95)\n",
      "Requirement already satisfied: tokenizers==0.5.2 in /home/wren/miniconda3/envs/cs_678_final_project_environment_ubuntu/lib/python3.7/site-packages (from transformers>=2.8->checklist) (0.5.2)\n",
      "Requirement already satisfied: sacremoses in /home/wren/miniconda3/envs/cs_678_final_project_environment_ubuntu/lib/python3.7/site-packages (from transformers>=2.8->checklist) (0.0.53)\n",
      "Requirement already satisfied: regex!=2019.12.17 in /home/wren/miniconda3/envs/cs_678_final_project_environment_ubuntu/lib/python3.7/site-packages (from transformers>=2.8->checklist) (2022.7.9)\n",
      "Requirement already satisfied: pdfminer.six in /home/wren/miniconda3/envs/cs_678_final_project_environment_ubuntu/lib/python3.7/site-packages (from patternfork-nosql->checklist) (20221105)\n",
      "Requirement already satisfied: scipy in /home/wren/miniconda3/envs/cs_678_final_project_environment_ubuntu/lib/python3.7/site-packages (from patternfork-nosql->checklist) (1.7.3)\n",
      "Requirement already satisfied: cherrypy in /home/wren/miniconda3/envs/cs_678_final_project_environment_ubuntu/lib/python3.7/site-packages (from patternfork-nosql->checklist) (18.8.0)\n",
      "Requirement already satisfied: future in /home/wren/miniconda3/envs/cs_678_final_project_environment_ubuntu/lib/python3.7/site-packages (from patternfork-nosql->checklist) (0.18.3)\n",
      "Requirement already satisfied: backports.csv in /home/wren/miniconda3/envs/cs_678_final_project_environment_ubuntu/lib/python3.7/site-packages (from patternfork-nosql->checklist) (1.0.7)\n",
      "Requirement already satisfied: beautifulsoup4 in /home/wren/miniconda3/envs/cs_678_final_project_environment_ubuntu/lib/python3.7/site-packages (from patternfork-nosql->checklist) (4.11.1)\n",
      "Requirement already satisfied: lxml in /home/wren/miniconda3/envs/cs_678_final_project_environment_ubuntu/lib/python3.7/site-packages (from patternfork-nosql->checklist) (4.9.2)\n",
      "Requirement already satisfied: nltk in /home/wren/miniconda3/envs/cs_678_final_project_environment_ubuntu/lib/python3.7/site-packages (from patternfork-nosql->checklist) (3.7)\n",
      "Requirement already satisfied: python-docx in /home/wren/miniconda3/envs/cs_678_final_project_environment_ubuntu/lib/python3.7/site-packages (from patternfork-nosql->checklist) (0.8.11)\n",
      "Requirement already satisfied: feedparser in /home/wren/miniconda3/envs/cs_678_final_project_environment_ubuntu/lib/python3.7/site-packages (from patternfork-nosql->checklist) (6.0.10)\n",
      "Requirement already satisfied: zipp>=0.5 in /home/wren/miniconda3/envs/cs_678_final_project_environment_ubuntu/lib/python3.7/site-packages (from catalogue<2.1.0,>=2.0.6->spacy>=2.2->checklist) (3.15.0)\n",
      "Requirement already satisfied: matplotlib-inline>=0.1 in /home/wren/miniconda3/envs/cs_678_final_project_environment_ubuntu/lib/python3.7/site-packages (from ipykernel>=4.5.1->ipywidgets>=7.5->checklist) (0.1.6)\n",
      "Requirement already satisfied: nest-asyncio in /home/wren/miniconda3/envs/cs_678_final_project_environment_ubuntu/lib/python3.7/site-packages (from ipykernel>=4.5.1->ipywidgets>=7.5->checklist) (1.5.6)\n",
      "Requirement already satisfied: debugpy>=1.0 in /home/wren/miniconda3/envs/cs_678_final_project_environment_ubuntu/lib/python3.7/site-packages (from ipykernel>=4.5.1->ipywidgets>=7.5->checklist) (1.6.7)\n",
      "Requirement already satisfied: psutil in /home/wren/miniconda3/envs/cs_678_final_project_environment_ubuntu/lib/python3.7/site-packages (from ipykernel>=4.5.1->ipywidgets>=7.5->checklist) (5.9.5)\n",
      "Requirement already satisfied: jupyter-client>=6.1.12 in /home/wren/miniconda3/envs/cs_678_final_project_environment_ubuntu/lib/python3.7/site-packages (from ipykernel>=4.5.1->ipywidgets>=7.5->checklist) (7.4.9)\n",
      "Requirement already satisfied: pyzmq>=17 in /home/wren/miniconda3/envs/cs_678_final_project_environment_ubuntu/lib/python3.7/site-packages (from ipykernel>=4.5.1->ipywidgets>=7.5->checklist) (25.0.2)\n",
      "Requirement already satisfied: tornado>=6.1 in /home/wren/miniconda3/envs/cs_678_final_project_environment_ubuntu/lib/python3.7/site-packages (from ipykernel>=4.5.1->ipywidgets>=7.5->checklist) (6.2)\n",
      "Requirement already satisfied: jedi>=0.16 in /home/wren/miniconda3/envs/cs_678_final_project_environment_ubuntu/lib/python3.7/site-packages (from ipython>=6.1.0->ipywidgets>=7.5->checklist) (0.18.2)\n",
      "Requirement already satisfied: pexpect>4.3 in /home/wren/miniconda3/envs/cs_678_final_project_environment_ubuntu/lib/python3.7/site-packages (from ipython>=6.1.0->ipywidgets>=7.5->checklist) (4.8.0)\n",
      "Requirement already satisfied: backcall in /home/wren/miniconda3/envs/cs_678_final_project_environment_ubuntu/lib/python3.7/site-packages (from ipython>=6.1.0->ipywidgets>=7.5->checklist) (0.2.0)\n",
      "Requirement already satisfied: decorator in /home/wren/miniconda3/envs/cs_678_final_project_environment_ubuntu/lib/python3.7/site-packages (from ipython>=6.1.0->ipywidgets>=7.5->checklist) (5.1.1)\n",
      "Requirement already satisfied: pygments in /home/wren/miniconda3/envs/cs_678_final_project_environment_ubuntu/lib/python3.7/site-packages (from ipython>=6.1.0->ipywidgets>=7.5->checklist) (2.15.1)\n",
      "Requirement already satisfied: pickleshare in /home/wren/miniconda3/envs/cs_678_final_project_environment_ubuntu/lib/python3.7/site-packages (from ipython>=6.1.0->ipywidgets>=7.5->checklist) (0.7.5)\n",
      "Requirement already satisfied: prompt-toolkit!=3.0.0,!=3.0.1,<3.1.0,>=2.0.0 in /home/wren/miniconda3/envs/cs_678_final_project_environment_ubuntu/lib/python3.7/site-packages (from ipython>=6.1.0->ipywidgets>=7.5->checklist) (3.0.38)\n",
      "Requirement already satisfied: charset-normalizer<3,>=2 in /home/wren/miniconda3/envs/cs_678_final_project_environment_ubuntu/lib/python3.7/site-packages (from requests<3.0.0,>=2.13.0->spacy>=2.2->checklist) (2.0.4)\n",
      "Requirement already satisfied: idna<4,>=2.5 in /home/wren/miniconda3/envs/cs_678_final_project_environment_ubuntu/lib/python3.7/site-packages (from requests<3.0.0,>=2.13.0->spacy>=2.2->checklist) (3.4)\n",
      "Requirement already satisfied: urllib3<1.27,>=1.21.1 in /home/wren/miniconda3/envs/cs_678_final_project_environment_ubuntu/lib/python3.7/site-packages (from requests<3.0.0,>=2.13.0->spacy>=2.2->checklist) (1.26.15)\n",
      "Requirement already satisfied: certifi>=2017.4.17 in /home/wren/miniconda3/envs/cs_678_final_project_environment_ubuntu/lib/python3.7/site-packages (from requests<3.0.0,>=2.13.0->spacy>=2.2->checklist) (2022.12.7)\n",
      "Requirement already satisfied: confection<1.0.0,>=0.0.1 in /home/wren/miniconda3/envs/cs_678_final_project_environment_ubuntu/lib/python3.7/site-packages (from thinc<8.2.0,>=8.1.8->spacy>=2.2->checklist) (0.0.4)\n",
      "Requirement already satisfied: blis<0.8.0,>=0.7.8 in /home/wren/miniconda3/envs/cs_678_final_project_environment_ubuntu/lib/python3.7/site-packages (from thinc<8.2.0,>=8.1.8->spacy>=2.2->checklist) (0.7.9)\n",
      "Requirement already satisfied: click<9.0.0,>=7.1.1 in /home/wren/miniconda3/envs/cs_678_final_project_environment_ubuntu/lib/python3.7/site-packages (from typer<0.8.0,>=0.3.0->spacy>=2.2->checklist) (8.0.4)\n",
      "Requirement already satisfied: soupsieve>1.2 in /home/wren/miniconda3/envs/cs_678_final_project_environment_ubuntu/lib/python3.7/site-packages (from beautifulsoup4->patternfork-nosql->checklist) (2.3.2.post1)\n",
      "Requirement already satisfied: s3transfer<0.7.0,>=0.6.0 in /home/wren/miniconda3/envs/cs_678_final_project_environment_ubuntu/lib/python3.7/site-packages (from boto3->transformers>=2.8->checklist) (0.6.0)\n",
      "Requirement already satisfied: jmespath<2.0.0,>=0.7.1 in /home/wren/miniconda3/envs/cs_678_final_project_environment_ubuntu/lib/python3.7/site-packages (from boto3->transformers>=2.8->checklist) (1.0.1)\n",
      "Requirement already satisfied: botocore<1.28.0,>=1.27.28 in /home/wren/miniconda3/envs/cs_678_final_project_environment_ubuntu/lib/python3.7/site-packages (from boto3->transformers>=2.8->checklist) (1.27.96)\n",
      "Requirement already satisfied: portend>=2.1.1 in /home/wren/miniconda3/envs/cs_678_final_project_environment_ubuntu/lib/python3.7/site-packages (from cherrypy->patternfork-nosql->checklist) (3.1.0)\n",
      "Requirement already satisfied: cheroot>=8.2.1 in /home/wren/miniconda3/envs/cs_678_final_project_environment_ubuntu/lib/python3.7/site-packages (from cherrypy->patternfork-nosql->checklist) (9.0.0)\n",
      "Requirement already satisfied: zc.lockfile in /home/wren/miniconda3/envs/cs_678_final_project_environment_ubuntu/lib/python3.7/site-packages (from cherrypy->patternfork-nosql->checklist) (3.0.post1)\n",
      "Requirement already satisfied: jaraco.collections in /home/wren/miniconda3/envs/cs_678_final_project_environment_ubuntu/lib/python3.7/site-packages (from cherrypy->patternfork-nosql->checklist) (4.1.0)\n",
      "Requirement already satisfied: more-itertools in /home/wren/miniconda3/envs/cs_678_final_project_environment_ubuntu/lib/python3.7/site-packages (from cherrypy->patternfork-nosql->checklist) (9.1.0)\n",
      "Requirement already satisfied: sgmllib3k in /home/wren/miniconda3/envs/cs_678_final_project_environment_ubuntu/lib/python3.7/site-packages (from feedparser->patternfork-nosql->checklist) (1.0.0)\n",
      "Requirement already satisfied: MarkupSafe>=2.0 in /home/wren/miniconda3/envs/cs_678_final_project_environment_ubuntu/lib/python3.7/site-packages (from jinja2->spacy>=2.2->checklist) (2.1.2)\n",
      "Requirement already satisfied: jupyter-core!=5.0.*,>=4.12 in /home/wren/miniconda3/envs/cs_678_final_project_environment_ubuntu/lib/python3.7/site-packages (from jupyter-console->jupyter>=1.0->checklist) (4.12.0)\n",
      "Requirement already satisfied: tinycss2 in /home/wren/miniconda3/envs/cs_678_final_project_environment_ubuntu/lib/python3.7/site-packages (from nbconvert->jupyter>=1.0->checklist) (1.2.1)\n",
      "Requirement already satisfied: importlib-metadata>=3.6 in /home/wren/miniconda3/envs/cs_678_final_project_environment_ubuntu/lib/python3.7/site-packages (from nbconvert->jupyter>=1.0->checklist) (4.11.3)\n",
      "Requirement already satisfied: bleach in /home/wren/miniconda3/envs/cs_678_final_project_environment_ubuntu/lib/python3.7/site-packages (from nbconvert->jupyter>=1.0->checklist) (6.0.0)\n",
      "Requirement already satisfied: nbclient>=0.5.0 in /home/wren/miniconda3/envs/cs_678_final_project_environment_ubuntu/lib/python3.7/site-packages (from nbconvert->jupyter>=1.0->checklist) (0.7.3)\n",
      "Requirement already satisfied: pandocfilters>=1.4.1 in /home/wren/miniconda3/envs/cs_678_final_project_environment_ubuntu/lib/python3.7/site-packages (from nbconvert->jupyter>=1.0->checklist) (1.5.0)\n",
      "Requirement already satisfied: jupyterlab-pygments in /home/wren/miniconda3/envs/cs_678_final_project_environment_ubuntu/lib/python3.7/site-packages (from nbconvert->jupyter>=1.0->checklist) (0.2.2)\n",
      "Requirement already satisfied: nbformat>=5.1 in /home/wren/miniconda3/envs/cs_678_final_project_environment_ubuntu/lib/python3.7/site-packages (from nbconvert->jupyter>=1.0->checklist) (5.8.0)\n",
      "Requirement already satisfied: mistune<3,>=2.0.3 in /home/wren/miniconda3/envs/cs_678_final_project_environment_ubuntu/lib/python3.7/site-packages (from nbconvert->jupyter>=1.0->checklist) (2.0.5)\n",
      "Requirement already satisfied: defusedxml in /home/wren/miniconda3/envs/cs_678_final_project_environment_ubuntu/lib/python3.7/site-packages (from nbconvert->jupyter>=1.0->checklist) (0.7.1)\n",
      "Requirement already satisfied: joblib in /home/wren/miniconda3/envs/cs_678_final_project_environment_ubuntu/lib/python3.7/site-packages (from nltk->patternfork-nosql->checklist) (1.1.1)\n",
      "Requirement already satisfied: prometheus-client in /home/wren/miniconda3/envs/cs_678_final_project_environment_ubuntu/lib/python3.7/site-packages (from notebook->jupyter>=1.0->checklist) (0.16.0)\n",
      "Requirement already satisfied: terminado>=0.8.3 in /home/wren/miniconda3/envs/cs_678_final_project_environment_ubuntu/lib/python3.7/site-packages (from notebook->jupyter>=1.0->checklist) (0.17.1)\n",
      "Requirement already satisfied: ipython-genutils in /home/wren/miniconda3/envs/cs_678_final_project_environment_ubuntu/lib/python3.7/site-packages (from notebook->jupyter>=1.0->checklist) (0.2.0)\n",
      "Requirement already satisfied: argon2-cffi in /home/wren/miniconda3/envs/cs_678_final_project_environment_ubuntu/lib/python3.7/site-packages (from notebook->jupyter>=1.0->checklist) (21.3.0)\n",
      "Requirement already satisfied: nbclassic>=0.4.7 in /home/wren/miniconda3/envs/cs_678_final_project_environment_ubuntu/lib/python3.7/site-packages (from notebook->jupyter>=1.0->checklist) (0.5.5)\n",
      "Requirement already satisfied: Send2Trash>=1.8.0 in /home/wren/miniconda3/envs/cs_678_final_project_environment_ubuntu/lib/python3.7/site-packages (from notebook->jupyter>=1.0->checklist) (1.8.0)\n",
      "Requirement already satisfied: cryptography>=36.0.0 in /home/wren/miniconda3/envs/cs_678_final_project_environment_ubuntu/lib/python3.7/site-packages (from pdfminer.six->patternfork-nosql->checklist) (39.0.1)\n",
      "Requirement already satisfied: qtpy>=2.0.1 in /home/wren/miniconda3/envs/cs_678_final_project_environment_ubuntu/lib/python3.7/site-packages (from qtconsole->jupyter>=1.0->checklist) (2.3.1)\n",
      "Requirement already satisfied: python-dateutil<3.0.0,>=2.1 in /home/wren/miniconda3/envs/cs_678_final_project_environment_ubuntu/lib/python3.7/site-packages (from botocore<1.28.0,>=1.27.28->boto3->transformers>=2.8->checklist) (2.8.2)\n",
      "Requirement already satisfied: jaraco.functools in /home/wren/miniconda3/envs/cs_678_final_project_environment_ubuntu/lib/python3.7/site-packages (from cheroot>=8.2.1->cherrypy->patternfork-nosql->checklist) (3.6.0)\n",
      "Requirement already satisfied: cffi>=1.12 in /home/wren/miniconda3/envs/cs_678_final_project_environment_ubuntu/lib/python3.7/site-packages (from cryptography>=36.0.0->pdfminer.six->patternfork-nosql->checklist) (1.15.1)\n",
      "Requirement already satisfied: parso<0.9.0,>=0.8.0 in /home/wren/miniconda3/envs/cs_678_final_project_environment_ubuntu/lib/python3.7/site-packages (from jedi>=0.16->ipython>=6.1.0->ipywidgets>=7.5->checklist) (0.8.3)\n",
      "Requirement already satisfied: entrypoints in /home/wren/miniconda3/envs/cs_678_final_project_environment_ubuntu/lib/python3.7/site-packages (from jupyter-client>=6.1.12->ipykernel>=4.5.1->ipywidgets>=7.5->checklist) (0.4)\n",
      "Requirement already satisfied: jupyter-server>=1.8 in /home/wren/miniconda3/envs/cs_678_final_project_environment_ubuntu/lib/python3.7/site-packages (from nbclassic>=0.4.7->notebook->jupyter>=1.0->checklist) (1.24.0)\n",
      "Requirement already satisfied: notebook-shim>=0.1.0 in /home/wren/miniconda3/envs/cs_678_final_project_environment_ubuntu/lib/python3.7/site-packages (from nbclassic>=0.4.7->notebook->jupyter>=1.0->checklist) (0.2.3)\n",
      "Requirement already satisfied: jsonschema>=2.6 in /home/wren/miniconda3/envs/cs_678_final_project_environment_ubuntu/lib/python3.7/site-packages (from nbformat>=5.1->nbconvert->jupyter>=1.0->checklist) (4.17.3)\n",
      "Requirement already satisfied: fastjsonschema in /home/wren/miniconda3/envs/cs_678_final_project_environment_ubuntu/lib/python3.7/site-packages (from nbformat>=5.1->nbconvert->jupyter>=1.0->checklist) (2.16.3)\n",
      "Requirement already satisfied: ptyprocess>=0.5 in /home/wren/miniconda3/envs/cs_678_final_project_environment_ubuntu/lib/python3.7/site-packages (from pexpect>4.3->ipython>=6.1.0->ipywidgets>=7.5->checklist) (0.7.0)\n",
      "Requirement already satisfied: tempora>=1.8 in /home/wren/miniconda3/envs/cs_678_final_project_environment_ubuntu/lib/python3.7/site-packages (from portend>=2.1.1->cherrypy->patternfork-nosql->checklist) (5.2.2)\n",
      "Requirement already satisfied: wcwidth in /home/wren/miniconda3/envs/cs_678_final_project_environment_ubuntu/lib/python3.7/site-packages (from prompt-toolkit!=3.0.0,!=3.0.1,<3.1.0,>=2.0.0->ipython>=6.1.0->ipywidgets>=7.5->checklist) (0.2.6)\n",
      "Requirement already satisfied: argon2-cffi-bindings in /home/wren/miniconda3/envs/cs_678_final_project_environment_ubuntu/lib/python3.7/site-packages (from argon2-cffi->notebook->jupyter>=1.0->checklist) (21.2.0)\n",
      "Requirement already satisfied: webencodings in /home/wren/miniconda3/envs/cs_678_final_project_environment_ubuntu/lib/python3.7/site-packages (from bleach->nbconvert->jupyter>=1.0->checklist) (0.5.1)\n",
      "Requirement already satisfied: jaraco.text in /home/wren/miniconda3/envs/cs_678_final_project_environment_ubuntu/lib/python3.7/site-packages (from jaraco.collections->cherrypy->patternfork-nosql->checklist) (3.11.1)\n",
      "Requirement already satisfied: pycparser in /home/wren/miniconda3/envs/cs_678_final_project_environment_ubuntu/lib/python3.7/site-packages (from cffi>=1.12->cryptography>=36.0.0->pdfminer.six->patternfork-nosql->checklist) (2.21)\n",
      "Requirement already satisfied: pkgutil-resolve-name>=1.3.10 in /home/wren/miniconda3/envs/cs_678_final_project_environment_ubuntu/lib/python3.7/site-packages (from jsonschema>=2.6->nbformat>=5.1->nbconvert->jupyter>=1.0->checklist) (1.3.10)\n",
      "Requirement already satisfied: pyrsistent!=0.17.0,!=0.17.1,!=0.17.2,>=0.14.0 in /home/wren/miniconda3/envs/cs_678_final_project_environment_ubuntu/lib/python3.7/site-packages (from jsonschema>=2.6->nbformat>=5.1->nbconvert->jupyter>=1.0->checklist) (0.19.3)\n",
      "Requirement already satisfied: attrs>=17.4.0 in /home/wren/miniconda3/envs/cs_678_final_project_environment_ubuntu/lib/python3.7/site-packages (from jsonschema>=2.6->nbformat>=5.1->nbconvert->jupyter>=1.0->checklist) (22.2.0)\n",
      "Requirement already satisfied: importlib-resources>=1.4.0 in /home/wren/miniconda3/envs/cs_678_final_project_environment_ubuntu/lib/python3.7/site-packages (from jsonschema>=2.6->nbformat>=5.1->nbconvert->jupyter>=1.0->checklist) (5.12.0)\n",
      "Requirement already satisfied: websocket-client in /home/wren/miniconda3/envs/cs_678_final_project_environment_ubuntu/lib/python3.7/site-packages (from jupyter-server>=1.8->nbclassic>=0.4.7->notebook->jupyter>=1.0->checklist) (1.5.1)\n",
      "Requirement already satisfied: anyio<4,>=3.1.0 in /home/wren/miniconda3/envs/cs_678_final_project_environment_ubuntu/lib/python3.7/site-packages (from jupyter-server>=1.8->nbclassic>=0.4.7->notebook->jupyter>=1.0->checklist) (3.6.2)\n",
      "Requirement already satisfied: pytz in /home/wren/miniconda3/envs/cs_678_final_project_environment_ubuntu/lib/python3.7/site-packages (from tempora>=1.8->portend>=2.1.1->cherrypy->patternfork-nosql->checklist) (2022.7.1)\n",
      "Requirement already satisfied: autocommand in /home/wren/miniconda3/envs/cs_678_final_project_environment_ubuntu/lib/python3.7/site-packages (from jaraco.text->jaraco.collections->cherrypy->patternfork-nosql->checklist) (2.2.2)\n",
      "Requirement already satisfied: inflect in /home/wren/miniconda3/envs/cs_678_final_project_environment_ubuntu/lib/python3.7/site-packages (from jaraco.text->jaraco.collections->cherrypy->patternfork-nosql->checklist) (6.0.4)\n",
      "Requirement already satisfied: jaraco.context>=4.1 in /home/wren/miniconda3/envs/cs_678_final_project_environment_ubuntu/lib/python3.7/site-packages (from jaraco.text->jaraco.collections->cherrypy->patternfork-nosql->checklist) (4.3.0)\n",
      "Requirement already satisfied: sniffio>=1.1 in /home/wren/miniconda3/envs/cs_678_final_project_environment_ubuntu/lib/python3.7/site-packages (from anyio<4,>=3.1.0->jupyter-server>=1.8->nbclassic>=0.4.7->notebook->jupyter>=1.0->checklist) (1.3.0)\n",
      "Requirement already satisfied: nlp in /home/wren/miniconda3/envs/cs_678_final_project_environment_ubuntu/lib/python3.7/site-packages (0.4.0)\n",
      "Requirement already satisfied: dill in /home/wren/miniconda3/envs/cs_678_final_project_environment_ubuntu/lib/python3.7/site-packages (from nlp) (0.3.6)\n",
      "Requirement already satisfied: filelock in /home/wren/miniconda3/envs/cs_678_final_project_environment_ubuntu/lib/python3.7/site-packages (from nlp) (3.10.2)\n",
      "Requirement already satisfied: requests>=2.19.0 in /home/wren/miniconda3/envs/cs_678_final_project_environment_ubuntu/lib/python3.7/site-packages (from nlp) (2.28.1)\n",
      "Requirement already satisfied: xxhash in /home/wren/miniconda3/envs/cs_678_final_project_environment_ubuntu/lib/python3.7/site-packages (from nlp) (3.2.0)\n",
      "Requirement already satisfied: pandas in /home/wren/miniconda3/envs/cs_678_final_project_environment_ubuntu/lib/python3.7/site-packages (from nlp) (1.3.5)\n",
      "Requirement already satisfied: numpy in /home/wren/miniconda3/envs/cs_678_final_project_environment_ubuntu/lib/python3.7/site-packages (from nlp) (1.21.5)\n",
      "Requirement already satisfied: pyarrow>=0.16.0 in /home/wren/miniconda3/envs/cs_678_final_project_environment_ubuntu/lib/python3.7/site-packages (from nlp) (11.0.0)\n",
      "Requirement already satisfied: tqdm>=4.27 in /home/wren/miniconda3/envs/cs_678_final_project_environment_ubuntu/lib/python3.7/site-packages (from nlp) (4.64.1)\n",
      "Requirement already satisfied: urllib3<1.27,>=1.21.1 in /home/wren/miniconda3/envs/cs_678_final_project_environment_ubuntu/lib/python3.7/site-packages (from requests>=2.19.0->nlp) (1.26.15)\n",
      "Requirement already satisfied: idna<4,>=2.5 in /home/wren/miniconda3/envs/cs_678_final_project_environment_ubuntu/lib/python3.7/site-packages (from requests>=2.19.0->nlp) (3.4)\n",
      "Requirement already satisfied: certifi>=2017.4.17 in /home/wren/miniconda3/envs/cs_678_final_project_environment_ubuntu/lib/python3.7/site-packages (from requests>=2.19.0->nlp) (2022.12.7)\n",
      "Requirement already satisfied: charset-normalizer<3,>=2 in /home/wren/miniconda3/envs/cs_678_final_project_environment_ubuntu/lib/python3.7/site-packages (from requests>=2.19.0->nlp) (2.0.4)\n",
      "Requirement already satisfied: python-dateutil>=2.7.3 in /home/wren/miniconda3/envs/cs_678_final_project_environment_ubuntu/lib/python3.7/site-packages (from pandas->nlp) (2.8.2)\n",
      "Requirement already satisfied: pytz>=2017.3 in /home/wren/miniconda3/envs/cs_678_final_project_environment_ubuntu/lib/python3.7/site-packages (from pandas->nlp) (2022.7.1)\n",
      "Requirement already satisfied: six>=1.5 in /home/wren/miniconda3/envs/cs_678_final_project_environment_ubuntu/lib/python3.7/site-packages (from python-dateutil>=2.7.3->pandas->nlp) (1.16.0)\n",
      "Collecting en-core-web-sm==3.5.0\n",
      "  Downloading https://github.com/explosion/spacy-models/releases/download/en_core_web_sm-3.5.0/en_core_web_sm-3.5.0-py3-none-any.whl (12.8 MB)\n",
      "\u001b[2K     \u001b[90m━━━━━━━━━━━━━━━━━━━━━━━━━━━━━━━━━━━━━━━━\u001b[0m \u001b[32m12.8/12.8 MB\u001b[0m \u001b[31m64.0 MB/s\u001b[0m eta \u001b[36m0:00:00\u001b[0m00:01\u001b[0m00:01\u001b[0m\n",
      "\u001b[?25hRequirement already satisfied: spacy<3.6.0,>=3.5.0 in /home/wren/miniconda3/envs/cs_678_final_project_environment_ubuntu/lib/python3.7/site-packages (from en-core-web-sm==3.5.0) (3.5.2)\n",
      "Requirement already satisfied: packaging>=20.0 in /home/wren/miniconda3/envs/cs_678_final_project_environment_ubuntu/lib/python3.7/site-packages (from spacy<3.6.0,>=3.5.0->en-core-web-sm==3.5.0) (23.0)\n",
      "Requirement already satisfied: tqdm<5.0.0,>=4.38.0 in /home/wren/miniconda3/envs/cs_678_final_project_environment_ubuntu/lib/python3.7/site-packages (from spacy<3.6.0,>=3.5.0->en-core-web-sm==3.5.0) (4.64.1)\n",
      "Requirement already satisfied: langcodes<4.0.0,>=3.2.0 in /home/wren/miniconda3/envs/cs_678_final_project_environment_ubuntu/lib/python3.7/site-packages (from spacy<3.6.0,>=3.5.0->en-core-web-sm==3.5.0) (3.3.0)\n",
      "Requirement already satisfied: preshed<3.1.0,>=3.0.2 in /home/wren/miniconda3/envs/cs_678_final_project_environment_ubuntu/lib/python3.7/site-packages (from spacy<3.6.0,>=3.5.0->en-core-web-sm==3.5.0) (3.0.8)\n",
      "Requirement already satisfied: pydantic!=1.8,!=1.8.1,<1.11.0,>=1.7.4 in /home/wren/miniconda3/envs/cs_678_final_project_environment_ubuntu/lib/python3.7/site-packages (from spacy<3.6.0,>=3.5.0->en-core-web-sm==3.5.0) (1.10.7)\n",
      "Requirement already satisfied: thinc<8.2.0,>=8.1.8 in /home/wren/miniconda3/envs/cs_678_final_project_environment_ubuntu/lib/python3.7/site-packages (from spacy<3.6.0,>=3.5.0->en-core-web-sm==3.5.0) (8.1.9)\n",
      "Requirement already satisfied: numpy>=1.15.0 in /home/wren/miniconda3/envs/cs_678_final_project_environment_ubuntu/lib/python3.7/site-packages (from spacy<3.6.0,>=3.5.0->en-core-web-sm==3.5.0) (1.21.5)\n",
      "Requirement already satisfied: cymem<2.1.0,>=2.0.2 in /home/wren/miniconda3/envs/cs_678_final_project_environment_ubuntu/lib/python3.7/site-packages (from spacy<3.6.0,>=3.5.0->en-core-web-sm==3.5.0) (2.0.7)\n",
      "Requirement already satisfied: srsly<3.0.0,>=2.4.3 in /home/wren/miniconda3/envs/cs_678_final_project_environment_ubuntu/lib/python3.7/site-packages (from spacy<3.6.0,>=3.5.0->en-core-web-sm==3.5.0) (2.4.6)\n",
      "Requirement already satisfied: smart-open<7.0.0,>=5.2.1 in /home/wren/miniconda3/envs/cs_678_final_project_environment_ubuntu/lib/python3.7/site-packages (from spacy<3.6.0,>=3.5.0->en-core-web-sm==3.5.0) (6.3.0)\n",
      "Requirement already satisfied: setuptools in /home/wren/miniconda3/envs/cs_678_final_project_environment_ubuntu/lib/python3.7/site-packages (from spacy<3.6.0,>=3.5.0->en-core-web-sm==3.5.0) (65.6.3)\n",
      "Requirement already satisfied: catalogue<2.1.0,>=2.0.6 in /home/wren/miniconda3/envs/cs_678_final_project_environment_ubuntu/lib/python3.7/site-packages (from spacy<3.6.0,>=3.5.0->en-core-web-sm==3.5.0) (2.0.8)\n",
      "Requirement already satisfied: typer<0.8.0,>=0.3.0 in /home/wren/miniconda3/envs/cs_678_final_project_environment_ubuntu/lib/python3.7/site-packages (from spacy<3.6.0,>=3.5.0->en-core-web-sm==3.5.0) (0.7.0)\n",
      "Requirement already satisfied: wasabi<1.2.0,>=0.9.1 in /home/wren/miniconda3/envs/cs_678_final_project_environment_ubuntu/lib/python3.7/site-packages (from spacy<3.6.0,>=3.5.0->en-core-web-sm==3.5.0) (1.1.1)\n",
      "Requirement already satisfied: typing-extensions<4.5.0,>=3.7.4.1 in /home/wren/miniconda3/envs/cs_678_final_project_environment_ubuntu/lib/python3.7/site-packages (from spacy<3.6.0,>=3.5.0->en-core-web-sm==3.5.0) (4.4.0)\n",
      "Requirement already satisfied: requests<3.0.0,>=2.13.0 in /home/wren/miniconda3/envs/cs_678_final_project_environment_ubuntu/lib/python3.7/site-packages (from spacy<3.6.0,>=3.5.0->en-core-web-sm==3.5.0) (2.28.1)\n",
      "Requirement already satisfied: spacy-legacy<3.1.0,>=3.0.11 in /home/wren/miniconda3/envs/cs_678_final_project_environment_ubuntu/lib/python3.7/site-packages (from spacy<3.6.0,>=3.5.0->en-core-web-sm==3.5.0) (3.0.12)\n",
      "Requirement already satisfied: spacy-loggers<2.0.0,>=1.0.0 in /home/wren/miniconda3/envs/cs_678_final_project_environment_ubuntu/lib/python3.7/site-packages (from spacy<3.6.0,>=3.5.0->en-core-web-sm==3.5.0) (1.0.4)\n",
      "Requirement already satisfied: pathy>=0.10.0 in /home/wren/miniconda3/envs/cs_678_final_project_environment_ubuntu/lib/python3.7/site-packages (from spacy<3.6.0,>=3.5.0->en-core-web-sm==3.5.0) (0.10.1)\n",
      "Requirement already satisfied: jinja2 in /home/wren/miniconda3/envs/cs_678_final_project_environment_ubuntu/lib/python3.7/site-packages (from spacy<3.6.0,>=3.5.0->en-core-web-sm==3.5.0) (3.1.2)\n",
      "Requirement already satisfied: murmurhash<1.1.0,>=0.28.0 in /home/wren/miniconda3/envs/cs_678_final_project_environment_ubuntu/lib/python3.7/site-packages (from spacy<3.6.0,>=3.5.0->en-core-web-sm==3.5.0) (1.0.9)\n",
      "Requirement already satisfied: zipp>=0.5 in /home/wren/miniconda3/envs/cs_678_final_project_environment_ubuntu/lib/python3.7/site-packages (from catalogue<2.1.0,>=2.0.6->spacy<3.6.0,>=3.5.0->en-core-web-sm==3.5.0) (3.15.0)\n",
      "Requirement already satisfied: urllib3<1.27,>=1.21.1 in /home/wren/miniconda3/envs/cs_678_final_project_environment_ubuntu/lib/python3.7/site-packages (from requests<3.0.0,>=2.13.0->spacy<3.6.0,>=3.5.0->en-core-web-sm==3.5.0) (1.26.15)\n",
      "Requirement already satisfied: certifi>=2017.4.17 in /home/wren/miniconda3/envs/cs_678_final_project_environment_ubuntu/lib/python3.7/site-packages (from requests<3.0.0,>=2.13.0->spacy<3.6.0,>=3.5.0->en-core-web-sm==3.5.0) (2022.12.7)\n",
      "Requirement already satisfied: idna<4,>=2.5 in /home/wren/miniconda3/envs/cs_678_final_project_environment_ubuntu/lib/python3.7/site-packages (from requests<3.0.0,>=2.13.0->spacy<3.6.0,>=3.5.0->en-core-web-sm==3.5.0) (3.4)\n",
      "Requirement already satisfied: charset-normalizer<3,>=2 in /home/wren/miniconda3/envs/cs_678_final_project_environment_ubuntu/lib/python3.7/site-packages (from requests<3.0.0,>=2.13.0->spacy<3.6.0,>=3.5.0->en-core-web-sm==3.5.0) (2.0.4)\n",
      "Requirement already satisfied: confection<1.0.0,>=0.0.1 in /home/wren/miniconda3/envs/cs_678_final_project_environment_ubuntu/lib/python3.7/site-packages (from thinc<8.2.0,>=8.1.8->spacy<3.6.0,>=3.5.0->en-core-web-sm==3.5.0) (0.0.4)\n",
      "Requirement already satisfied: blis<0.8.0,>=0.7.8 in /home/wren/miniconda3/envs/cs_678_final_project_environment_ubuntu/lib/python3.7/site-packages (from thinc<8.2.0,>=8.1.8->spacy<3.6.0,>=3.5.0->en-core-web-sm==3.5.0) (0.7.9)\n",
      "Requirement already satisfied: click<9.0.0,>=7.1.1 in /home/wren/miniconda3/envs/cs_678_final_project_environment_ubuntu/lib/python3.7/site-packages (from typer<0.8.0,>=0.3.0->spacy<3.6.0,>=3.5.0->en-core-web-sm==3.5.0) (8.0.4)\n",
      "Requirement already satisfied: MarkupSafe>=2.0 in /home/wren/miniconda3/envs/cs_678_final_project_environment_ubuntu/lib/python3.7/site-packages (from jinja2->spacy<3.6.0,>=3.5.0->en-core-web-sm==3.5.0) (2.1.2)\n",
      "Requirement already satisfied: importlib-metadata in /home/wren/miniconda3/envs/cs_678_final_project_environment_ubuntu/lib/python3.7/site-packages (from click<9.0.0,>=7.1.1->typer<0.8.0,>=0.3.0->spacy<3.6.0,>=3.5.0->en-core-web-sm==3.5.0) (4.11.3)\n",
      "\u001b[38;5;2m✔ Download and installation successful\u001b[0m\n",
      "You can now load the package via spacy.load('en_core_web_sm')\n"
     ]
    }
   ],
   "source": [
    "# Install Checklist and other requirements\n",
    "import sys\n",
    "!pip install checklist\n",
    "!pip install nlp\n",
    "!python -m spacy download en_core_web_sm"
   ]
  },
  {
   "cell_type": "code",
   "execution_count": 2,
   "metadata": {},
   "outputs": [
    {
     "name": "stderr",
     "output_type": "stream",
     "text": [
      "[nltk_data] Downloading package omw-1.4 to /home/wren/nltk_data...\n",
      "[nltk_data]   Package omw-1.4 is already up-to-date!\n"
     ]
    }
   ],
   "source": [
    "import nltk\n",
    "nltk.download('omw-1.4')\n",
    "\n",
    "\n",
    "import checklist\n",
    "from checklist.editor import Editor\n",
    "from checklist.perturb import Perturb\n",
    "from checklist.test_types import MFT, INV, DIR\n",
    "from checklist.test_suite import TestSuite\n",
    "from checklist.expect import Expect\n",
    "\n",
    "from transformers import DistilBertTokenizer, DistilBertForSequenceClassification\n",
    "from torch.utils.data import SequentialSampler, Dataset, DataLoader, TensorDataset\n",
    "\n",
    "import sys\n",
    "import spacy\n",
    "import numpy as np\n",
    "processor = spacy.load('en_core_web_sm')\n",
    "\n",
    "from transformers import pipeline, AutoTokenizer, AutoModelForSequenceClassification\n",
    "import torch\n",
    "model_name = \"distilbert-base-uncased\"\n",
    "tokenizer = DistilBertTokenizer.from_pretrained(model_name)\n",
    "model = DistilBertForSequenceClassification.from_pretrained(model_name)\n",
    "state_dict = torch.load('../checkpoints/movies/distilbert/token_rationale/length_level_0.5/seed_1234/models/classifier_ckpt_k0.5.pt')\n",
    "for key in list(state_dict.keys()):\n",
    "    state_dict[key[6:]] = state_dict.pop(key)\n",
    "model.load_state_dict(state_dict)\n",
    "# sentiment analysis is a general name in Huggingface to load the pipeline for text classification tasks.\n",
    "# set device=-1 if you don't have a gpu\n",
    "pipe = pipeline(\"sentiment-analysis\", model=model, tokenizer=tokenizer, framework=\"pt\", device=0)"
   ]
  },
  {
   "attachments": {},
   "cell_type": "markdown",
   "metadata": {},
   "source": [
    "Load the dataset"
   ]
  },
  {
   "cell_type": "code",
   "execution_count": 3,
   "metadata": {},
   "outputs": [
    {
     "name": "stdout",
     "output_type": "stream",
     "text": [
      "Loading Dataset...\n",
      " === Rationale Level: token === \n",
      "Loading features from cached file %s ../data/movies/token/train/token_cached_features_file.pt\n",
      "Loading Training Set -- Sample Size = 1600\n",
      "Loading features from cached file %s ../data/movies/token/val/token_cached_features_file.pt\n",
      "Loading Validation Set -- Sample Size = 200\n",
      "Loading features from cached file %s ../data/movies/token/test/token_cached_features_file.pt\n",
      "Loading Test Set -- Sample Size = 199\n"
     ]
    }
   ],
   "source": [
    "from utils import utils\n",
    "from utils.utils_dataloader import set_seed, load_data\n",
    "import json\n",
    "import main\n",
    "import os\n",
    "\n",
    "train_dataloader, valid_dataloader, test_dataloader = main.train_dataloader, main.valid_dataloader, main.test_dataloader"
   ]
  },
  {
   "attachments": {},
   "cell_type": "markdown",
   "metadata": {},
   "source": [
    "Preprocess all the questions with spacy.  This may take some time."
   ]
  },
  {
   "cell_type": "code",
   "execution_count": 4,
   "metadata": {},
   "outputs": [
    {
     "name": "stdout",
     "output_type": "stream",
     "text": [
      "Total count of unique questions: 1999\n"
     ]
    },
    {
     "name": "stderr",
     "output_type": "stream",
     "text": [
      "1999it [01:29, 22.37it/s]\n"
     ]
    }
   ],
   "source": [
    "# Build all_questions, which consists of strings\n",
    "from tqdm import tqdm\n",
    "all_questions = set()\n",
    "docs_filepath = \"../data/movies/docs\"\n",
    "for filename in os.listdir(docs_filepath):\n",
    "    with open(os.path.join(docs_filepath, filename), \"r\", encoding=\"utf-8\") as file:\n",
    "        all_questions.add(file.read())\n",
    "print(f\"Total count of unique questions: {len(all_questions)}\")\n",
    "\n",
    "# Process all_questions\n",
    "processed_qs = list(tqdm(processor.pipe(all_questions, batch_size=64)))\n",
    "\n",
    "# Obtain list version of all_questions\n",
    "all_questions_as_list = list(all_questions)"
   ]
  },
  {
   "cell_type": "code",
   "execution_count": 5,
   "metadata": {},
   "outputs": [],
   "source": [
    "spacy_map = {q: processed_q for (q, processed_q) in zip(all_questions, processed_qs)}\n",
    "parsed_qs = [(spacy_map[q]) for q in all_questions]"
   ]
  },
  {
   "attachments": {},
   "cell_type": "markdown",
   "metadata": {},
   "source": [
    "## Build the CheckList matrix"
   ]
  },
  {
   "cell_type": "code",
   "execution_count": 6,
   "metadata": {},
   "outputs": [],
   "source": [
    "suite = TestSuite()\n",
    "editor = Editor()"
   ]
  },
  {
   "attachments": {},
   "cell_type": "markdown",
   "metadata": {},
   "source": [
    "### Capability: Robustness\n",
    "> I think this is the only capability Antonis wants us to test.  -Wren"
   ]
  },
  {
   "attachments": {},
   "cell_type": "markdown",
   "metadata": {},
   "source": [
    "#### MFT (Minimum Functionality Test)"
   ]
  },
  {
   "cell_type": "code",
   "execution_count": 7,
   "metadata": {},
   "outputs": [
    {
     "data": {
      "text/plain": [
       "'\\n# When the ground-truth sentiment of a review hinges on a single word, the output should match the sentiment of the word\\nt = editor.template((\\n    \"This movie is {adjective}.\"    # Need to alter\\n    ),\\n    remove_duplicates=True,\\n    nsamples=300\\n    )\\ntest = MFT(**t, labels=0, name=\"movie descriptors\", capability=\"robustness\",\\n           description=\"straightforward descriptions of movies\")\\nsuite.add(test)\\n# Show some example prompts\\nprint(t.data[0])\\nprint(t.data[1])\\n'"
      ]
     },
     "execution_count": 7,
     "metadata": {},
     "output_type": "execute_result"
    }
   ],
   "source": [
    "# Actually I dont think we need any MFTs\n",
    "\"\"\"\n",
    "# When the ground-truth sentiment of a review hinges on a single word, the output should match the sentiment of the word\n",
    "t = editor.template((\n",
    "    \"This movie is {adjective}.\"    # Need to alter\n",
    "    ),\n",
    "    remove_duplicates=True,\n",
    "    nsamples=300\n",
    "    )\n",
    "test = MFT(**t, labels=0, name=\"movie descriptors\", capability=\"robustness\",\n",
    "           description=\"straightforward descriptions of movies\")\n",
    "suite.add(test)\n",
    "# Show some example prompts\n",
    "print(t.data[0])\n",
    "print(t.data[1])\n",
    "\"\"\""
   ]
  },
  {
   "attachments": {},
   "cell_type": "markdown",
   "metadata": {},
   "source": [
    "#### INV (Invariance Test)"
   ]
  },
  {
   "cell_type": "code",
   "execution_count": 8,
   "metadata": {},
   "outputs": [],
   "source": [
    "# Changing contractions should not change the output label\n",
    "def contractions(q):\n",
    "    c = Perturb.contractions(q)\n",
    "    if not c:\n",
    "        return\n",
    "    return c\n",
    "\n",
    "t_contractions = Perturb.perturb(all_questions_as_list, contractions, nsamples=250)\n",
    "test = INV(**t_contractions, name='contraction invariance', capability='robustness',\n",
    "          description='')\n",
    "suite.add(test)\n",
    "#print(t_contractions.data[0][0])\n",
    "#print(t_contractions.data[0][1])"
   ]
  },
  {
   "cell_type": "code",
   "execution_count": 9,
   "metadata": {},
   "outputs": [],
   "source": [
    "# Introducing minor typos should not change the output label\n",
    "def add_typos(q):\n",
    "    c = Perturb.add_typos(q, typos=10)\n",
    "    if not c:\n",
    "        return\n",
    "    return c\n",
    "\n",
    "t_typos = Perturb.perturb(all_questions_as_list, add_typos, nsamples=250)\n",
    "test = INV(**t_typos, name='typo invariance', capability='robustness',\n",
    "          description='')\n",
    "suite.add(test)\n",
    "#\"\"\"\n",
    "#print(t_typos.data[0][0])\n",
    "#print(t_typos.data[0][1])"
   ]
  },
  {
   "cell_type": "code",
   "execution_count": 10,
   "metadata": {},
   "outputs": [],
   "source": [
    "# Changing person names should not change the output label\n",
    "def change_names(q):\n",
    "    c = Perturb.change_names(q, seed=1, meta=True)\n",
    "    if not c:\n",
    "        return\n",
    "    # separating out examples and meta. Meta has tuples (a, b), where name 'a' was changed to 'b'\n",
    "    c, m = c\n",
    "    # Only include examples where a name was changed\n",
    "    return [(this_c) for this_c, this_m in zip(c, m) if len(this_m) > 0][:10]\n",
    "\n",
    "t_names = Perturb.perturb(parsed_qs, change_names, nsamples=25)\n",
    "test = INV(**t_names, name='person name invariance', capability='robustness',\n",
    "          description='')\n",
    "suite.add(test)\n",
    "#print(t_names.data[0][0])\n",
    "#print(t_names.data[0][1])\n",
    "#print(t_names.data[0][2])"
   ]
  },
  {
   "attachments": {},
   "cell_type": "markdown",
   "metadata": {},
   "source": [
    "#### DIR (Directional Expectation Test)"
   ]
  },
  {
   "cell_type": "code",
   "execution_count": 11,
   "metadata": {},
   "outputs": [
    {
     "data": {
      "text/plain": [
       "'\\n# Adding a single sentence that says \"This movie is good.\" at the end should not make the output label more negative.\\n'"
      ]
     },
     "execution_count": 11,
     "metadata": {},
     "output_type": "execute_result"
    }
   ],
   "source": [
    "# Actually I don't think we need any DIRs\n",
    "\"\"\"\n",
    "# Adding a single sentence that says \"This movie is good.\" at the end should not make the output label more negative.\n",
    "\"\"\""
   ]
  },
  {
   "cell_type": "code",
   "execution_count": 12,
   "metadata": {},
   "outputs": [
    {
     "data": {
      "text/plain": [
       "'\\n# Adding a single sentence that says \"This movie is bad.\" at the end should not make the output label more positive.\\n'"
      ]
     },
     "execution_count": 12,
     "metadata": {},
     "output_type": "execute_result"
    }
   ],
   "source": [
    "# Actually I don't think we need any DIRs\n",
    "\"\"\"\n",
    "# Adding a single sentence that says \"This movie is bad.\" at the end should not make the output label more positive.\n",
    "\"\"\""
   ]
  },
  {
   "attachments": {},
   "cell_type": "markdown",
   "metadata": {},
   "source": [
    "## Running the suite, seeing results"
   ]
  },
  {
   "attachments": {},
   "cell_type": "markdown",
   "metadata": {},
   "source": [
    "When running the prediction, the Huggingface pipeline returns a dict with predicted label and probability:"
   ]
  },
  {
   "cell_type": "code",
   "execution_count": 13,
   "metadata": {},
   "outputs": [
    {
     "name": "stdout",
     "output_type": "stream",
     "text": [
      "[{'label': 'LABEL_0', 'score': 0.9893769}]\n",
      "[{'label': 'LABEL_1', 'score': 0.98617023}]\n"
     ]
    }
   ],
   "source": [
    "print(pipe([\"The movie was bad.\"]))\n",
    "print(pipe([\"The movie was good.\"]))"
   ]
  },
  {
   "attachments": {},
   "cell_type": "markdown",
   "metadata": {},
   "source": [
    "We write a simple wrapper to make the output compatible with CheckList:"
   ]
  },
  {
   "cell_type": "code",
   "execution_count": 14,
   "metadata": {},
   "outputs": [],
   "source": [
    "def pred_and_conf(data):\n",
    "    \"\"\"Prediction and confidence function\"\"\"\n",
    "    raw_preds = pipe(data, pad_to_max_length=True)\n",
    "    preds = np.array([ int(p[\"label\"][-1]) for p in raw_preds])\n",
    "    pp = np.array([[p[\"score\"], 1-p[\"score\"]] if int(p[\"label\"][-1]) == 0 else [1-p[\"score\"], p[\"score\"]] for p in raw_preds])\n",
    "    return preds, pp"
   ]
  },
  {
   "cell_type": "code",
   "execution_count": 15,
   "metadata": {},
   "outputs": [
    {
     "name": "stdout",
     "output_type": "stream",
     "text": [
      "CONTRACTIONS\n",
      "250 source inputs, 1 variants per input\n",
      "Average score disturbance magnitude: 1.590E-02\n",
      "Average score disturbance: -1.256E-03\n",
      "Standard deviation: 9.388E-02\n",
      "Most negative score disturbance: -6.558E-01\n",
      "Most positive score disturbance: 9.710E-01\n",
      "________________________________________________________________\n",
      "TYPOS\n",
      "250 source inputs, 1 variants per input\n",
      "Average score disturbance magnitude: 2.109E-02\n",
      "Average score disturbance: -8.524E-03\n",
      "Standard deviation: 9.658E-02\n",
      "Most negative score disturbance: -8.813E-01\n",
      "Most positive score disturbance: 7.506E-01\n",
      "________________________________________________________________\n",
      "NAMES\n",
      "25 source inputs, 10 variants per input\n",
      "Average score disturbance magnitude: 1.012E-03\n",
      "Average score disturbance: 7.866E-04\n",
      "Standard deviation: 4.881E-03\n",
      "Most negative score disturbance: -3.184E-03\n",
      "Most positive score disturbance: 3.949E-02\n",
      "________________________________________________________________\n"
     ]
    }
   ],
   "source": [
    "# This is how CheckList wants to be run, but it throws errors.\n",
    "#suite.run(pred_and_conf)\n",
    "\n",
    "\n",
    "\n",
    "# ----------------------------------------------------------------\n",
    "\n",
    "\n",
    "\n",
    "# As an alternative, I implemented this approach for getting CheckList results, which runs without errors and uses less VRAM.\n",
    "\n",
    "def get_score_difference(prediction_old, prediction_new):\n",
    "    score_old = prediction_old[\"score\"]\n",
    "    if prediction_old[\"label\"] == \"LABEL_0\":\n",
    "        score_old = 1 - score_old\n",
    "    \n",
    "    score_new = prediction_new[\"score\"]\n",
    "    if prediction_new[\"label\"] == \"LABEL_0\":\n",
    "        score_new = 1 - score_new\n",
    "\n",
    "    return score_new - score_old\n",
    "\n",
    "\n",
    "#\n",
    "# CONTRACTIONS\n",
    "#\n",
    "contractions_score_disturbances = []\n",
    "for variant_list in t_contractions.data:\n",
    "    \n",
    "    # Get the prediction for the unaltered input, on a scale from 0 (certainly NEG) to 1 (certainly POS).\n",
    "    prediction_on_unaltered = pipe([variant_list[0]])[0]\n",
    "\n",
    "    # Get score disturbances caused by perturbations\n",
    "    for passage in variant_list[1:]:\n",
    "        prediction_on_altered = pipe([passage])[0]\n",
    "        score_difference = get_score_difference(prediction_on_unaltered, prediction_on_altered)\n",
    "        contractions_score_disturbances.append(score_difference)\n",
    "contractions_score_disturbances = np.array(contractions_score_disturbances)\n",
    "\n",
    "\n",
    "#\n",
    "# TYPOS\n",
    "#\n",
    "typos_score_disturbances = []\n",
    "for variant_list in t_typos.data:\n",
    "    \n",
    "    # Get the prediction for the unaltered input, on a scale from 0 (certainly NEG) to 1 (certainly POS).\n",
    "    prediction_on_unaltered = pipe([variant_list[0]])[0]\n",
    "\n",
    "    # Get score disturbances caused by perturbations\n",
    "    for passage in variant_list[1:]:\n",
    "        prediction_on_altered = pipe([passage])[0]\n",
    "        score_difference = get_score_difference(prediction_on_unaltered, prediction_on_altered)\n",
    "        typos_score_disturbances.append(score_difference)\n",
    "typos_score_disturbances = np.array(typos_score_disturbances)\n",
    "\n",
    "\n",
    "#\n",
    "# NAMES\n",
    "#\n",
    "names_score_disturbances = []\n",
    "for variant_list in t_names.data:\n",
    "    \n",
    "    # Get the prediction for the unaltered input, on a scale from 0 (certainly NEG) to 1 (certainly POS).\n",
    "    prediction_on_unaltered = pipe([variant_list[0]])[0]\n",
    "\n",
    "    # Get score disturbances caused by perturbations\n",
    "    for passage in variant_list[1:]:\n",
    "        prediction_on_altered = pipe([passage])[0]\n",
    "        score_difference = get_score_difference(prediction_on_unaltered, prediction_on_altered)\n",
    "        names_score_disturbances.append(score_difference)\n",
    "names_score_disturbances = np.array(names_score_disturbances)\n",
    "\n",
    "\n",
    "#\n",
    "# SHOW RESULTS\n",
    "#\n",
    "print(\"CONTRACTIONS\")\n",
    "print(f\"{len(t_contractions.data)} source inputs, {len(t_contractions.data[0])-1} variants per input\")\n",
    "print(f\"Average score disturbance magnitude: {np.mean(abs(contractions_score_disturbances)):.3E}\")\n",
    "print(f\"Average score disturbance: {np.mean(contractions_score_disturbances):.3E}\")\n",
    "print(f\"Standard deviation: {np.std(contractions_score_disturbances):.3E}\")\n",
    "print(f\"Most negative score disturbance: {np.min(contractions_score_disturbances):.3E}\")\n",
    "print(f\"Most positive score disturbance: {np.max(contractions_score_disturbances):.3E}\")\n",
    "print(\"_\" * 64)\n",
    "\n",
    "print(\"TYPOS\")\n",
    "print(f\"{len(t_typos.data)} source inputs, {len(t_typos.data[0])-1} variants per input\")\n",
    "print(f\"Average score disturbance magnitude: {np.mean(abs(typos_score_disturbances)):.3E}\")\n",
    "print(f\"Average score disturbance: {np.mean(typos_score_disturbances):.3E}\")\n",
    "print(f\"Standard deviation: {np.std(typos_score_disturbances):.3E}\")\n",
    "print(f\"Most negative score disturbance: {np.min(typos_score_disturbances):.3E}\")\n",
    "print(f\"Most positive score disturbance: {np.max(typos_score_disturbances):.3E}\")\n",
    "print(\"_\" * 64)\n",
    "\n",
    "print(\"NAMES\")\n",
    "print(f\"{len(t_names.data)} source inputs, {len(t_names.data[0])-1} variants per input\")\n",
    "print(f\"Average score disturbance magnitude: {np.mean(abs(names_score_disturbances)):.3E}\")\n",
    "print(f\"Average score disturbance: {np.mean(names_score_disturbances):.3E}\")\n",
    "print(f\"Standard deviation: {np.std(names_score_disturbances):.3E}\")\n",
    "print(f\"Most negative score disturbance: {np.min(names_score_disturbances):.3E}\")\n",
    "print(f\"Most positive score disturbance: {np.max(names_score_disturbances):.3E}\")\n",
    "print(\"_\" * 64)"
   ]
  },
  {
   "cell_type": "code",
   "execution_count": 55,
   "metadata": {},
   "outputs": [
    {
     "data": {
      "image/png": "[encoded data removed]",
      "text/plain": [
       "<Figure size 1000x480 with 3 Axes>"
      ]
     },
     "metadata": {},
     "output_type": "display_data"
    }
   ],
   "source": [
    "# Plot results as box-and-whisker plots\n",
    "from matplotlib import pyplot as plt\n",
    "\n",
    "fig, (ax1, ax2, ax3) = plt.subplots(1, 3)\n",
    "fig.set_figwidth(10)\n",
    "fig.suptitle(\"Classifier Robustness Study\")\n",
    "ax1.set_title(\"Contractions\")\n",
    "ax1.boxplot(contractions_score_disturbances)\n",
    "ax1.set_ylim(-1, 1)\n",
    "ax1.set_ylabel(\"Score change\")\n",
    "ax1.get_xaxis().set_visible(False)\n",
    "ax1.grid()\n",
    "ax2.set_title(\"Typos\")\n",
    "ax2.boxplot(typos_score_disturbances)\n",
    "ax2.set_ylim(-1, 1)\n",
    "ax2.get_xaxis().set_visible(False)\n",
    "ax2.grid()\n",
    "ax3.set_title(\"Name changes\")\n",
    "ax3.boxplot(names_score_disturbances)\n",
    "ax3.set_ylim(-1, 1)\n",
    "ax3.get_xaxis().set_visible(False)\n",
    "ax3.grid()\n",
    "plt.show()"
   ]
  },
  {
   "cell_type": "code",
   "execution_count": null,
   "metadata": {},
   "outputs": [],
   "source": []
  }
 ],
 "metadata": {
  "kernelspec": {
   "display_name": "cs_678_final_project_environment_ubuntu",
   "language": "python",
   "name": "python3"
  },
  "language_info": {
   "codemirror_mode": {
    "name": "ipython",
    "version": 3
   },
   "file_extension": ".py",
   "mimetype": "text/x-python",
   "name": "python",
   "nbconvert_exporter": "python",
   "pygments_lexer": "ipython3",
   "version": "3.7.16"
  },
  "orig_nbformat": 4
 },
 "nbformat": 4,
 "nbformat_minor": 2
}
