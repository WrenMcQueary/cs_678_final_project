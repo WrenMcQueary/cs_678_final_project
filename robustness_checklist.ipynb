{
 "cells": [
  {
   "cell_type": "markdown",
   "metadata": {},
   "source": [
    "# Robustness check using [CheckList](https://github.com/marcotcr/checklist)\n",
    "\n",
    "Evaluate a LimitedInk DistilBERT model trained on the `movies` dataset.\n",
    "This notebook only tests the identifier (not the classifier), because the identifier is more interesting and is the novel contribution of the LimitedInk paper.\n",
    "\n",
    "Borrows heavily from [this tutorial notebook](https://github.com/marcotcr/checklist/blob/master/notebooks/tutorials/4.%20The%20CheckList%20process.ipynb)."
   ]
  },
  {
   "cell_type": "markdown",
   "metadata": {},
   "source": [
    "## Task and model"
   ]
  },
  {
   "cell_type": "markdown",
   "metadata": {},
   "source": [
    "Load the model and spacy"
   ]
  },
  {
   "cell_type": "code",
   "execution_count": null,
   "metadata": {},
   "outputs": [
    {
     "name": "stdout",
     "output_type": "stream",
     "text": [
      "Defaulting to user installation because normal site-packages is not writeable\n",
      "Requirement already satisfied: checklist in /home/jhus/.local/lib/python3.9/site-packages (0.0.11)\n",
      "Requirement already satisfied: munch>=2.5 in /home/jhus/.local/lib/python3.9/site-packages (from checklist) (2.5.0)\n",
      "Requirement already satisfied: patternfork-nosql in /home/jhus/.local/lib/python3.9/site-packages (from checklist) (3.6)\n",
      "Requirement already satisfied: ipywidgets>=7.5 in /opt/sw/spack/apps/linux-rhel8-x86_64_v2/gcc-10.3.0/python-3.9.9-jh/lib/python3.9/site-packages (from checklist) (7.7.0)\n",
      "Requirement already satisfied: dill>=0.3.1 in /home/jhus/.local/lib/python3.9/site-packages (from checklist) (0.3.6)\n",
      "Requirement already satisfied: jupyter>=1.0 in /opt/sw/spack/apps/linux-rhel8-x86_64_v2/gcc-10.3.0/python-3.9.9-jh/lib/python3.9/site-packages (from checklist) (1.0.0)\n",
      "Requirement already satisfied: numpy>=1.18 in /home/jhus/.local/lib/python3.9/site-packages (from checklist) (1.21.5)\n",
      "Requirement already satisfied: transformers>=2.8 in /home/jhus/.local/lib/python3.9/site-packages (from checklist) (4.28.1)\n",
      "Requirement already satisfied: iso-639 in /home/jhus/.local/lib/python3.9/site-packages (from checklist) (0.4.5)\n",
      "Requirement already satisfied: spacy>=2.2 in /home/jhus/.local/lib/python3.9/site-packages (from checklist) (3.5.2)\n",
      "Requirement already satisfied: ipykernel>=4.5.1 in /opt/sw/spack/apps/linux-rhel8-x86_64_v2/gcc-10.3.0/python-3.9.9-jh/lib/python3.9/site-packages (from ipywidgets>=7.5->checklist) (6.9.2)\n",
      "Requirement already satisfied: widgetsnbextension~=3.6.0 in /opt/sw/spack/apps/linux-rhel8-x86_64_v2/gcc-10.3.0/python-3.9.9-jh/lib/python3.9/site-packages (from ipywidgets>=7.5->checklist) (3.6.0)\n",
      "Requirement already satisfied: jupyterlab-widgets>=1.0.0 in /opt/sw/spack/apps/linux-rhel8-x86_64_v2/gcc-10.3.0/python-3.9.9-jh/lib/python3.9/site-packages (from ipywidgets>=7.5->checklist) (1.1.0)\n",
      "Requirement already satisfied: nbformat>=4.2.0 in /opt/sw/spack/apps/linux-rhel8-x86_64_v2/gcc-10.3.0/python-3.9.9-jh/lib/python3.9/site-packages (from ipywidgets>=7.5->checklist) (5.2.0)\n",
      "Requirement already satisfied: traitlets>=4.3.1 in /opt/sw/spack/apps/linux-rhel8-x86_64_v2/gcc-10.3.0/python-3.9.9-jh/lib/python3.9/site-packages (from ipywidgets>=7.5->checklist) (5.1.1)\n",
      "Requirement already satisfied: ipython>=4.0.0 in /opt/sw/spack/apps/linux-rhel8-x86_64_v2/gcc-10.3.0/python-3.9.9-jh/lib/python3.9/site-packages (from ipywidgets>=7.5->checklist) (8.1.1)\n",
      "Requirement already satisfied: ipython-genutils~=0.2.0 in /opt/sw/spack/apps/linux-rhel8-x86_64_v2/gcc-10.3.0/python-3.9.9-jh/lib/python3.9/site-packages (from ipywidgets>=7.5->checklist) (0.2.0)\n",
      "Requirement already satisfied: notebook in /opt/sw/spack/apps/linux-rhel8-x86_64_v2/gcc-10.3.0/python-3.9.9-jh/lib/python3.9/site-packages (from jupyter>=1.0->checklist) (6.4.10)\n",
      "Requirement already satisfied: jupyter-console in /opt/sw/spack/apps/linux-rhel8-x86_64_v2/gcc-10.3.0/python-3.9.9-jh/lib/python3.9/site-packages (from jupyter>=1.0->checklist) (6.4.3)\n",
      "Requirement already satisfied: qtconsole in /opt/sw/spack/apps/linux-rhel8-x86_64_v2/gcc-10.3.0/python-3.9.9-jh/lib/python3.9/site-packages (from jupyter>=1.0->checklist) (5.2.2)\n",
      "Requirement already satisfied: nbconvert in /opt/sw/spack/apps/linux-rhel8-x86_64_v2/gcc-10.3.0/python-3.9.9-jh/lib/python3.9/site-packages (from jupyter>=1.0->checklist) (6.4.4)\n",
      "Requirement already satisfied: six in /opt/sw/spack/apps/linux-rhel8-x86_64_v2/gcc-10.3.0/python-3.9.9-jh/lib/python3.9/site-packages (from munch>=2.5->checklist) (1.16.0)\n",
      "Requirement already satisfied: typer<0.8.0,>=0.3.0 in /home/jhus/.local/lib/python3.9/site-packages (from spacy>=2.2->checklist) (0.7.0)\n",
      "Requirement already satisfied: langcodes<4.0.0,>=3.2.0 in /home/jhus/.local/lib/python3.9/site-packages (from spacy>=2.2->checklist) (3.3.0)\n",
      "Requirement already satisfied: tqdm<5.0.0,>=4.38.0 in /opt/sw/spack/apps/linux-rhel8-x86_64_v2/gcc-10.3.0/python-3.9.9-jh/lib/python3.9/site-packages (from spacy>=2.2->checklist) (4.63.1)\n",
      "Requirement already satisfied: pydantic!=1.8,!=1.8.1,<1.11.0,>=1.7.4 in /home/jhus/.local/lib/python3.9/site-packages (from spacy>=2.2->checklist) (1.10.7)\n",
      "Requirement already satisfied: pathy>=0.10.0 in /home/jhus/.local/lib/python3.9/site-packages (from spacy>=2.2->checklist) (0.10.1)\n",
      "Requirement already satisfied: catalogue<2.1.0,>=2.0.6 in /home/jhus/.local/lib/python3.9/site-packages (from spacy>=2.2->checklist) (2.0.8)\n",
      "Requirement already satisfied: jinja2 in /opt/sw/spack/apps/linux-rhel8-x86_64_v2/gcc-10.3.0/python-3.9.9-jh/lib/python3.9/site-packages (from spacy>=2.2->checklist) (3.1.0)\n",
      "Requirement already satisfied: thinc<8.2.0,>=8.1.8 in /home/jhus/.local/lib/python3.9/site-packages (from spacy>=2.2->checklist) (8.1.9)\n",
      "Requirement already satisfied: requests<3.0.0,>=2.13.0 in /opt/sw/spack/apps/linux-rhel8-x86_64_v2/gcc-10.3.0/python-3.9.9-jh/lib/python3.9/site-packages (from spacy>=2.2->checklist) (2.27.1)\n",
      "Requirement already satisfied: spacy-legacy<3.1.0,>=3.0.11 in /home/jhus/.local/lib/python3.9/site-packages (from spacy>=2.2->checklist) (3.0.12)\n",
      "Requirement already satisfied: preshed<3.1.0,>=3.0.2 in /home/jhus/.local/lib/python3.9/site-packages (from spacy>=2.2->checklist) (3.0.8)\n",
      "Requirement already satisfied: packaging>=20.0 in /opt/sw/spack/apps/linux-rhel8-x86_64_v2/gcc-10.3.0/python-3.9.9-jh/lib/python3.9/site-packages (from spacy>=2.2->checklist) (21.3)\n",
      "Requirement already satisfied: srsly<3.0.0,>=2.4.3 in /home/jhus/.local/lib/python3.9/site-packages (from spacy>=2.2->checklist) (2.4.6)\n",
      "Requirement already satisfied: murmurhash<1.1.0,>=0.28.0 in /home/jhus/.local/lib/python3.9/site-packages (from spacy>=2.2->checklist) (1.0.9)\n",
      "Requirement already satisfied: cymem<2.1.0,>=2.0.2 in /home/jhus/.local/lib/python3.9/site-packages (from spacy>=2.2->checklist) (2.0.7)\n",
      "Requirement already satisfied: wasabi<1.2.0,>=0.9.1 in /home/jhus/.local/lib/python3.9/site-packages (from spacy>=2.2->checklist) (1.1.1)\n",
      "Requirement already satisfied: setuptools in /opt/sw/spack/apps/linux-rhel8-x86_64_v2/gcc-10.3.0/python-3.9.9-jh/lib/python3.9/site-packages (from spacy>=2.2->checklist) (61.0.0)\n",
      "Requirement already satisfied: spacy-loggers<2.0.0,>=1.0.0 in /home/jhus/.local/lib/python3.9/site-packages (from spacy>=2.2->checklist) (1.0.4)\n",
      "Requirement already satisfied: smart-open<7.0.0,>=5.2.1 in /home/jhus/.local/lib/python3.9/site-packages (from spacy>=2.2->checklist) (6.3.0)\n",
      "Requirement already satisfied: pyyaml>=5.1 in /opt/sw/spack/apps/linux-rhel8-x86_64_v2/gcc-10.3.0/python-3.9.9-jh/lib/python3.9/site-packages (from transformers>=2.8->checklist) (6.0)\n",
      "Requirement already satisfied: filelock in /opt/sw/spack/apps/linux-rhel8-x86_64_v2/gcc-10.3.0/python-3.9.9-jh/lib/python3.9/site-packages (from transformers>=2.8->checklist) (3.6.0)\n",
      "Requirement already satisfied: huggingface-hub<1.0,>=0.11.0 in /home/jhus/.local/lib/python3.9/site-packages (from transformers>=2.8->checklist) (0.14.1)\n",
      "Requirement already satisfied: regex!=2019.12.17 in /opt/sw/spack/apps/linux-rhel8-x86_64_v2/gcc-10.3.0/python-3.9.9-jh/lib/python3.9/site-packages (from transformers>=2.8->checklist) (2022.3.15)\n",
      "Requirement already satisfied: tokenizers!=0.11.3,<0.14,>=0.11.1 in /home/jhus/.local/lib/python3.9/site-packages (from transformers>=2.8->checklist) (0.13.3)\n",
      "Requirement already satisfied: feedparser in /home/jhus/.local/lib/python3.9/site-packages (from patternfork-nosql->checklist) (6.0.10)\n",
      "Requirement already satisfied: pdfminer.six in /home/jhus/.local/lib/python3.9/site-packages (from patternfork-nosql->checklist) (20221105)\n",
      "Requirement already satisfied: lxml in /opt/sw/spack/apps/linux-rhel8-x86_64_v2/gcc-10.3.0/python-3.9.9-jh/lib/python3.9/site-packages (from patternfork-nosql->checklist) (4.8.0)\n",
      "Requirement already satisfied: future in /home/jhus/.local/lib/python3.9/site-packages (from patternfork-nosql->checklist) (0.18.3)\n",
      "Requirement already satisfied: backports.csv in /home/jhus/.local/lib/python3.9/site-packages (from patternfork-nosql->checklist) (1.0.7)\n",
      "Requirement already satisfied: nltk in /opt/sw/spack/apps/linux-rhel8-x86_64_v2/gcc-10.3.0/python-3.9.9-jh/lib/python3.9/site-packages (from patternfork-nosql->checklist) (3.6.7)\n",
      "Requirement already satisfied: python-docx in /home/jhus/.local/lib/python3.9/site-packages (from patternfork-nosql->checklist) (0.8.11)\n",
      "Requirement already satisfied: cherrypy in /home/jhus/.local/lib/python3.9/site-packages (from patternfork-nosql->checklist) (18.8.0)\n",
      "Requirement already satisfied: beautifulsoup4 in /opt/sw/spack/apps/linux-rhel8-x86_64_v2/gcc-10.3.0/python-3.9.9-jh/lib/python3.9/site-packages (from patternfork-nosql->checklist) (4.10.0)\n",
      "Requirement already satisfied: scipy in /home/jhus/.local/lib/python3.9/site-packages (from patternfork-nosql->checklist) (1.7.3)\n"
     ]
    },
    {
     "name": "stdout",
     "output_type": "stream",
     "text": [
      "Requirement already satisfied: fsspec in /home/jhus/.local/lib/python3.9/site-packages (from huggingface-hub<1.0,>=0.11.0->transformers>=2.8->checklist) (2023.4.0)\n",
      "Requirement already satisfied: typing-extensions>=3.7.4.3 in /home/jhus/.local/lib/python3.9/site-packages (from huggingface-hub<1.0,>=0.11.0->transformers>=2.8->checklist) (4.5.0)\n",
      "Requirement already satisfied: debugpy<2.0,>=1.0.0 in /opt/sw/spack/apps/linux-rhel8-x86_64_v2/gcc-10.3.0/python-3.9.9-jh/lib/python3.9/site-packages (from ipykernel>=4.5.1->ipywidgets>=7.5->checklist) (1.6.0)\n",
      "Requirement already satisfied: nest-asyncio in /opt/sw/spack/apps/linux-rhel8-x86_64_v2/gcc-10.3.0/python-3.9.9-jh/lib/python3.9/site-packages (from ipykernel>=4.5.1->ipywidgets>=7.5->checklist) (1.5.4)\n",
      "Requirement already satisfied: matplotlib-inline<0.2.0,>=0.1.0 in /opt/sw/spack/apps/linux-rhel8-x86_64_v2/gcc-10.3.0/python-3.9.9-jh/lib/python3.9/site-packages (from ipykernel>=4.5.1->ipywidgets>=7.5->checklist) (0.1.3)\n",
      "Requirement already satisfied: jupyter-client<8.0 in /opt/sw/spack/apps/linux-rhel8-x86_64_v2/gcc-10.3.0/python-3.9.9-jh/lib/python3.9/site-packages (from ipykernel>=4.5.1->ipywidgets>=7.5->checklist) (7.1.2)\n",
      "Requirement already satisfied: psutil in /opt/sw/spack/apps/linux-rhel8-x86_64_v2/gcc-10.3.0/python-3.9.9-jh/lib/python3.9/site-packages (from ipykernel>=4.5.1->ipywidgets>=7.5->checklist) (5.9.0)\n",
      "Requirement already satisfied: tornado<7.0,>=4.2 in /opt/sw/spack/apps/linux-rhel8-x86_64_v2/gcc-10.3.0/python-3.9.9-jh/lib/python3.9/site-packages (from ipykernel>=4.5.1->ipywidgets>=7.5->checklist) (6.1)\n",
      "Requirement already satisfied: decorator in /opt/sw/spack/apps/linux-rhel8-x86_64_v2/gcc-10.3.0/python-3.9.9-jh/lib/python3.9/site-packages (from ipython>=4.0.0->ipywidgets>=7.5->checklist) (5.1.1)\n",
      "Requirement already satisfied: jedi>=0.16 in /opt/sw/spack/apps/linux-rhel8-x86_64_v2/gcc-10.3.0/python-3.9.9-jh/lib/python3.9/site-packages (from ipython>=4.0.0->ipywidgets>=7.5->checklist) (0.18.1)\n",
      "Requirement already satisfied: pexpect>4.3 in /opt/sw/spack/apps/linux-rhel8-x86_64_v2/gcc-10.3.0/python-3.9.9-jh/lib/python3.9/site-packages (from ipython>=4.0.0->ipywidgets>=7.5->checklist) (4.8.0)\n",
      "Requirement already satisfied: prompt-toolkit!=3.0.0,!=3.0.1,<3.1.0,>=2.0.0 in /opt/sw/spack/apps/linux-rhel8-x86_64_v2/gcc-10.3.0/python-3.9.9-jh/lib/python3.9/site-packages (from ipython>=4.0.0->ipywidgets>=7.5->checklist) (3.0.28)\n",
      "Requirement already satisfied: stack-data in /opt/sw/spack/apps/linux-rhel8-x86_64_v2/gcc-10.3.0/python-3.9.9-jh/lib/python3.9/site-packages (from ipython>=4.0.0->ipywidgets>=7.5->checklist) (0.2.0)\n",
      "Requirement already satisfied: pickleshare in /opt/sw/spack/apps/linux-rhel8-x86_64_v2/gcc-10.3.0/python-3.9.9-jh/lib/python3.9/site-packages (from ipython>=4.0.0->ipywidgets>=7.5->checklist) (0.7.5)\n",
      "Requirement already satisfied: backcall in /opt/sw/spack/apps/linux-rhel8-x86_64_v2/gcc-10.3.0/python-3.9.9-jh/lib/python3.9/site-packages (from ipython>=4.0.0->ipywidgets>=7.5->checklist) (0.2.0)\n",
      "Requirement already satisfied: pygments>=2.4.0 in /opt/sw/spack/apps/linux-rhel8-x86_64_v2/gcc-10.3.0/python-3.9.9-jh/lib/python3.9/site-packages (from ipython>=4.0.0->ipywidgets>=7.5->checklist) (2.11.2)\n",
      "Requirement already satisfied: jupyter-core in /opt/sw/spack/apps/linux-rhel8-x86_64_v2/gcc-10.3.0/python-3.9.9-jh/lib/python3.9/site-packages (from nbformat>=4.2.0->ipywidgets>=7.5->checklist) (4.9.2)\n",
      "Requirement already satisfied: jsonschema!=2.5.0,>=2.4 in /opt/sw/spack/apps/linux-rhel8-x86_64_v2/gcc-10.3.0/python-3.9.9-jh/lib/python3.9/site-packages (from nbformat>=4.2.0->ipywidgets>=7.5->checklist) (3.2.0)\n",
      "Requirement already satisfied: pyparsing!=3.0.5,>=2.0.2 in /opt/sw/spack/apps/linux-rhel8-x86_64_v2/gcc-10.3.0/python-3.9.9-jh/lib/python3.9/site-packages (from packaging>=20.0->spacy>=2.2->checklist) (3.0.7)\n",
      "Requirement already satisfied: idna<4,>=2.5 in /opt/sw/spack/apps/linux-rhel8-x86_64_v2/gcc-10.3.0/python-3.9.9-jh/lib/python3.9/site-packages (from requests<3.0.0,>=2.13.0->spacy>=2.2->checklist) (3.3)\n",
      "Requirement already satisfied: urllib3<1.27,>=1.21.1 in /opt/sw/spack/apps/linux-rhel8-x86_64_v2/gcc-10.3.0/python-3.9.9-jh/lib/python3.9/site-packages (from requests<3.0.0,>=2.13.0->spacy>=2.2->checklist) (1.26.9)\n",
      "Requirement already satisfied: certifi>=2017.4.17 in /opt/sw/spack/apps/linux-rhel8-x86_64_v2/gcc-10.3.0/python-3.9.9-jh/lib/python3.9/site-packages (from requests<3.0.0,>=2.13.0->spacy>=2.2->checklist) (2021.10.8)\n",
      "Requirement already satisfied: charset-normalizer~=2.0.0 in /opt/sw/spack/apps/linux-rhel8-x86_64_v2/gcc-10.3.0/python-3.9.9-jh/lib/python3.9/site-packages (from requests<3.0.0,>=2.13.0->spacy>=2.2->checklist) (2.0.12)\n",
      "Requirement already satisfied: confection<1.0.0,>=0.0.1 in /home/jhus/.local/lib/python3.9/site-packages (from thinc<8.2.0,>=8.1.8->spacy>=2.2->checklist) (0.0.4)\n",
      "Requirement already satisfied: blis<0.8.0,>=0.7.8 in /home/jhus/.local/lib/python3.9/site-packages (from thinc<8.2.0,>=8.1.8->spacy>=2.2->checklist) (0.7.9)\n",
      "Requirement already satisfied: click<9.0.0,>=7.1.1 in /opt/sw/spack/apps/linux-rhel8-x86_64_v2/gcc-10.3.0/python-3.9.9-jh/lib/python3.9/site-packages (from typer<0.8.0,>=0.3.0->spacy>=2.2->checklist) (8.0.4)\n",
      "Requirement already satisfied: pyzmq>=17 in /opt/sw/spack/apps/linux-rhel8-x86_64_v2/gcc-10.3.0/python-3.9.9-jh/lib/python3.9/site-packages (from notebook->jupyter>=1.0->checklist) (22.3.0)\n",
      "Requirement already satisfied: terminado>=0.8.3 in /opt/sw/spack/apps/linux-rhel8-x86_64_v2/gcc-10.3.0/python-3.9.9-jh/lib/python3.9/site-packages (from notebook->jupyter>=1.0->checklist) (0.13.3)\n",
      "Requirement already satisfied: Send2Trash>=1.8.0 in /opt/sw/spack/apps/linux-rhel8-x86_64_v2/gcc-10.3.0/python-3.9.9-jh/lib/python3.9/site-packages (from notebook->jupyter>=1.0->checklist) (1.8.0)\n",
      "Requirement already satisfied: prometheus-client in /opt/sw/spack/apps/linux-rhel8-x86_64_v2/gcc-10.3.0/python-3.9.9-jh/lib/python3.9/site-packages (from notebook->jupyter>=1.0->checklist) (0.13.1)\n",
      "Requirement already satisfied: argon2-cffi in /opt/sw/spack/apps/linux-rhel8-x86_64_v2/gcc-10.3.0/python-3.9.9-jh/lib/python3.9/site-packages (from notebook->jupyter>=1.0->checklist) (21.3.0)\n",
      "Requirement already satisfied: bleach in /opt/sw/spack/apps/linux-rhel8-x86_64_v2/gcc-10.3.0/python-3.9.9-jh/lib/python3.9/site-packages (from nbconvert->jupyter>=1.0->checklist) (4.1.0)\n",
      "Requirement already satisfied: testpath in /opt/sw/spack/apps/linux-rhel8-x86_64_v2/gcc-10.3.0/python-3.9.9-jh/lib/python3.9/site-packages (from nbconvert->jupyter>=1.0->checklist) (0.6.0)\n",
      "Requirement already satisfied: jupyterlab-pygments in /opt/sw/spack/apps/linux-rhel8-x86_64_v2/gcc-10.3.0/python-3.9.9-jh/lib/python3.9/site-packages (from nbconvert->jupyter>=1.0->checklist) (0.1.2)\n",
      "Requirement already satisfied: nbclient<0.6.0,>=0.5.0 in /opt/sw/spack/apps/linux-rhel8-x86_64_v2/gcc-10.3.0/python-3.9.9-jh/lib/python3.9/site-packages (from nbconvert->jupyter>=1.0->checklist) (0.5.13)\n",
      "Requirement already satisfied: mistune<2,>=0.8.1 in /opt/sw/spack/apps/linux-rhel8-x86_64_v2/gcc-10.3.0/python-3.9.9-jh/lib/python3.9/site-packages (from nbconvert->jupyter>=1.0->checklist) (0.8.4)\n",
      "Requirement already satisfied: defusedxml in /opt/sw/spack/apps/linux-rhel8-x86_64_v2/gcc-10.3.0/python-3.9.9-jh/lib/python3.9/site-packages (from nbconvert->jupyter>=1.0->checklist) (0.7.1)\n",
      "Requirement already satisfied: entrypoints>=0.2.2 in /opt/sw/spack/apps/linux-rhel8-x86_64_v2/gcc-10.3.0/python-3.9.9-jh/lib/python3.9/site-packages (from nbconvert->jupyter>=1.0->checklist) (0.4)\n",
      "Requirement already satisfied: pandocfilters>=1.4.1 in /opt/sw/spack/apps/linux-rhel8-x86_64_v2/gcc-10.3.0/python-3.9.9-jh/lib/python3.9/site-packages (from nbconvert->jupyter>=1.0->checklist) (1.5.0)\n",
      "Requirement already satisfied: MarkupSafe>=2.0 in /opt/sw/spack/apps/linux-rhel8-x86_64_v2/gcc-10.3.0/python-3.9.9-jh/lib/python3.9/site-packages (from jinja2->spacy>=2.2->checklist) (2.1.1)\n",
      "Requirement already satisfied: soupsieve>1.2 in /opt/sw/spack/apps/linux-rhel8-x86_64_v2/gcc-10.3.0/python-3.9.9-jh/lib/python3.9/site-packages (from beautifulsoup4->patternfork-nosql->checklist) (2.3.1)\n",
      "Requirement already satisfied: portend>=2.1.1 in /home/jhus/.local/lib/python3.9/site-packages (from cherrypy->patternfork-nosql->checklist) (3.1.0)\n",
      "Requirement already satisfied: cheroot>=8.2.1 in /home/jhus/.local/lib/python3.9/site-packages (from cherrypy->patternfork-nosql->checklist) (9.0.0)\n",
      "Requirement already satisfied: jaraco.collections in /home/jhus/.local/lib/python3.9/site-packages (from cherrypy->patternfork-nosql->checklist) (4.1.0)\n",
      "Requirement already satisfied: more-itertools in /opt/sw/spack/apps/linux-rhel8-x86_64_v2/gcc-10.3.0/python-3.9.9-jh/lib/python3.9/site-packages (from cherrypy->patternfork-nosql->checklist) (8.12.0)\n",
      "Requirement already satisfied: zc.lockfile in /home/jhus/.local/lib/python3.9/site-packages (from cherrypy->patternfork-nosql->checklist) (3.0.post1)\n",
      "Requirement already satisfied: sgmllib3k in /home/jhus/.local/lib/python3.9/site-packages (from feedparser->patternfork-nosql->checklist) (1.0.0)\n"
     ]
    },
    {
     "name": "stdout",
     "output_type": "stream",
     "text": [
      "Requirement already satisfied: joblib in /opt/sw/spack/apps/linux-rhel8-x86_64_v2/gcc-10.3.0/python-3.9.9-jh/lib/python3.9/site-packages (from nltk->patternfork-nosql->checklist) (1.1.0)\n",
      "Requirement already satisfied: cryptography>=36.0.0 in /opt/sw/spack/apps/linux-rhel8-x86_64_v2/gcc-10.3.0/python-3.9.9-jh/lib/python3.9/site-packages (from pdfminer.six->patternfork-nosql->checklist) (36.0.2)\n",
      "Requirement already satisfied: qtpy in /opt/sw/spack/apps/linux-rhel8-x86_64_v2/gcc-10.3.0/python-3.9.9-jh/lib/python3.9/site-packages (from qtconsole->jupyter>=1.0->checklist) (2.0.1)\n",
      "Requirement already satisfied: jaraco.functools in /home/jhus/.local/lib/python3.9/site-packages (from cheroot>=8.2.1->cherrypy->patternfork-nosql->checklist) (3.6.0)\n",
      "Requirement already satisfied: cffi>=1.12 in /opt/sw/spack/apps/linux-rhel8-x86_64_v2/gcc-10.3.0/python-3.9.9-jh/lib/python3.9/site-packages (from cryptography>=36.0.0->pdfminer.six->patternfork-nosql->checklist) (1.15.0)\n",
      "Requirement already satisfied: parso<0.9.0,>=0.8.0 in /opt/sw/spack/apps/linux-rhel8-x86_64_v2/gcc-10.3.0/python-3.9.9-jh/lib/python3.9/site-packages (from jedi>=0.16->ipython>=4.0.0->ipywidgets>=7.5->checklist) (0.8.3)\n",
      "Requirement already satisfied: pyrsistent>=0.14.0 in /opt/sw/spack/apps/linux-rhel8-x86_64_v2/gcc-10.3.0/python-3.9.9-jh/lib/python3.9/site-packages (from jsonschema!=2.5.0,>=2.4->nbformat>=4.2.0->ipywidgets>=7.5->checklist) (0.18.1)\n",
      "Requirement already satisfied: attrs>=17.4.0 in /opt/sw/spack/apps/linux-rhel8-x86_64_v2/gcc-10.3.0/python-3.9.9-jh/lib/python3.9/site-packages (from jsonschema!=2.5.0,>=2.4->nbformat>=4.2.0->ipywidgets>=7.5->checklist) (21.4.0)\n",
      "Requirement already satisfied: python-dateutil>=2.1 in /home/jhus/.local/lib/python3.9/site-packages (from jupyter-client<8.0->ipykernel>=4.5.1->ipywidgets>=7.5->checklist) (2.8.2)\n",
      "Requirement already satisfied: ptyprocess>=0.5 in /opt/sw/spack/apps/linux-rhel8-x86_64_v2/gcc-10.3.0/python-3.9.9-jh/lib/python3.9/site-packages (from pexpect>4.3->ipython>=4.0.0->ipywidgets>=7.5->checklist) (0.7.0)\n",
      "Requirement already satisfied: tempora>=1.8 in /home/jhus/.local/lib/python3.9/site-packages (from portend>=2.1.1->cherrypy->patternfork-nosql->checklist) (5.2.2)\n",
      "Requirement already satisfied: wcwidth in /opt/sw/spack/apps/linux-rhel8-x86_64_v2/gcc-10.3.0/python-3.9.9-jh/lib/python3.9/site-packages (from prompt-toolkit!=3.0.0,!=3.0.1,<3.1.0,>=2.0.0->ipython>=4.0.0->ipywidgets>=7.5->checklist) (0.2.5)\n",
      "Requirement already satisfied: argon2-cffi-bindings in /opt/sw/spack/apps/linux-rhel8-x86_64_v2/gcc-10.3.0/python-3.9.9-jh/lib/python3.9/site-packages (from argon2-cffi->notebook->jupyter>=1.0->checklist) (21.2.0)\n",
      "Requirement already satisfied: webencodings in /opt/sw/spack/apps/linux-rhel8-x86_64_v2/gcc-10.3.0/python-3.9.9-jh/lib/python3.9/site-packages (from bleach->nbconvert->jupyter>=1.0->checklist) (0.5.1)\n",
      "Requirement already satisfied: jaraco.text in /home/jhus/.local/lib/python3.9/site-packages (from jaraco.collections->cherrypy->patternfork-nosql->checklist) (3.11.1)\n",
      "Requirement already satisfied: asttokens in /opt/sw/spack/apps/linux-rhel8-x86_64_v2/gcc-10.3.0/python-3.9.9-jh/lib/python3.9/site-packages (from stack-data->ipython>=4.0.0->ipywidgets>=7.5->checklist) (2.0.5)\n",
      "Requirement already satisfied: executing in /opt/sw/spack/apps/linux-rhel8-x86_64_v2/gcc-10.3.0/python-3.9.9-jh/lib/python3.9/site-packages (from stack-data->ipython>=4.0.0->ipywidgets>=7.5->checklist) (0.8.3)\n",
      "Requirement already satisfied: pure-eval in /opt/sw/spack/apps/linux-rhel8-x86_64_v2/gcc-10.3.0/python-3.9.9-jh/lib/python3.9/site-packages (from stack-data->ipython>=4.0.0->ipywidgets>=7.5->checklist) (0.2.2)\n",
      "Requirement already satisfied: pycparser in /opt/sw/spack/apps/linux-rhel8-x86_64_v2/gcc-10.3.0/python-3.9.9-jh/lib/python3.9/site-packages (from cffi>=1.12->cryptography>=36.0.0->pdfminer.six->patternfork-nosql->checklist) (2.21)\n",
      "Requirement already satisfied: pytz in /home/jhus/.local/lib/python3.9/site-packages (from tempora>=1.8->portend>=2.1.1->cherrypy->patternfork-nosql->checklist) (2022.1)\n",
      "Requirement already satisfied: jaraco.context>=4.1 in /home/jhus/.local/lib/python3.9/site-packages (from jaraco.text->jaraco.collections->cherrypy->patternfork-nosql->checklist) (4.3.0)\n",
      "Requirement already satisfied: inflect in /home/jhus/.local/lib/python3.9/site-packages (from jaraco.text->jaraco.collections->cherrypy->patternfork-nosql->checklist) (6.0.4)\n",
      "Requirement already satisfied: autocommand in /home/jhus/.local/lib/python3.9/site-packages (from jaraco.text->jaraco.collections->cherrypy->patternfork-nosql->checklist) (2.2.2)\n",
      "\n",
      "\u001b[1m[\u001b[0m\u001b[34;49mnotice\u001b[0m\u001b[1;39;49m]\u001b[0m\u001b[39;49m A new release of pip is available: \u001b[0m\u001b[31;49m23.0.1\u001b[0m\u001b[39;49m -> \u001b[0m\u001b[32;49m23.1.2\u001b[0m\n",
      "\u001b[1m[\u001b[0m\u001b[34;49mnotice\u001b[0m\u001b[1;39;49m]\u001b[0m\u001b[39;49m To update, run: \u001b[0m\u001b[32;49mpip install --upgrade pip\u001b[0m\n",
      "Defaulting to user installation because normal site-packages is not writeable\n",
      "Requirement already satisfied: nlp in /home/jhus/.local/lib/python3.9/site-packages (0.4.0)\n",
      "Requirement already satisfied: dill in /home/jhus/.local/lib/python3.9/site-packages (from nlp) (0.3.6)\n",
      "Requirement already satisfied: requests>=2.19.0 in /opt/sw/spack/apps/linux-rhel8-x86_64_v2/gcc-10.3.0/python-3.9.9-jh/lib/python3.9/site-packages (from nlp) (2.27.1)\n",
      "Requirement already satisfied: filelock in /opt/sw/spack/apps/linux-rhel8-x86_64_v2/gcc-10.3.0/python-3.9.9-jh/lib/python3.9/site-packages (from nlp) (3.6.0)\n",
      "Requirement already satisfied: pandas in /opt/sw/spack/apps/linux-rhel8-x86_64_v2/gcc-10.3.0/python-3.9.9-jh/lib/python3.9/site-packages (from nlp) (1.3.5)\n",
      "Requirement already satisfied: pyarrow>=0.16.0 in /home/jhus/.local/lib/python3.9/site-packages (from nlp) (12.0.0)\n",
      "Requirement already satisfied: tqdm>=4.27 in /opt/sw/spack/apps/linux-rhel8-x86_64_v2/gcc-10.3.0/python-3.9.9-jh/lib/python3.9/site-packages (from nlp) (4.63.1)\n",
      "Requirement already satisfied: numpy in /home/jhus/.local/lib/python3.9/site-packages (from nlp) (1.21.5)\n",
      "Requirement already satisfied: xxhash in /home/jhus/.local/lib/python3.9/site-packages (from nlp) (3.2.0)\n",
      "Requirement already satisfied: certifi>=2017.4.17 in /opt/sw/spack/apps/linux-rhel8-x86_64_v2/gcc-10.3.0/python-3.9.9-jh/lib/python3.9/site-packages (from requests>=2.19.0->nlp) (2021.10.8)\n",
      "Requirement already satisfied: urllib3<1.27,>=1.21.1 in /opt/sw/spack/apps/linux-rhel8-x86_64_v2/gcc-10.3.0/python-3.9.9-jh/lib/python3.9/site-packages (from requests>=2.19.0->nlp) (1.26.9)\n",
      "Requirement already satisfied: charset-normalizer~=2.0.0 in /opt/sw/spack/apps/linux-rhel8-x86_64_v2/gcc-10.3.0/python-3.9.9-jh/lib/python3.9/site-packages (from requests>=2.19.0->nlp) (2.0.12)\n",
      "Requirement already satisfied: idna<4,>=2.5 in /opt/sw/spack/apps/linux-rhel8-x86_64_v2/gcc-10.3.0/python-3.9.9-jh/lib/python3.9/site-packages (from requests>=2.19.0->nlp) (3.3)\n",
      "Requirement already satisfied: pytz>=2017.3 in /home/jhus/.local/lib/python3.9/site-packages (from pandas->nlp) (2022.1)\n",
      "Requirement already satisfied: python-dateutil>=2.7.3 in /home/jhus/.local/lib/python3.9/site-packages (from pandas->nlp) (2.8.2)\n",
      "Requirement already satisfied: six>=1.5 in /opt/sw/spack/apps/linux-rhel8-x86_64_v2/gcc-10.3.0/python-3.9.9-jh/lib/python3.9/site-packages (from python-dateutil>=2.7.3->pandas->nlp) (1.16.0)\n",
      "\n",
      "\u001b[1m[\u001b[0m\u001b[34;49mnotice\u001b[0m\u001b[1;39;49m]\u001b[0m\u001b[39;49m A new release of pip is available: \u001b[0m\u001b[31;49m23.0.1\u001b[0m\u001b[39;49m -> \u001b[0m\u001b[32;49m23.1.2\u001b[0m\n",
      "\u001b[1m[\u001b[0m\u001b[34;49mnotice\u001b[0m\u001b[1;39;49m]\u001b[0m\u001b[39;49m To update, run: \u001b[0m\u001b[32;49mpip install --upgrade pip\u001b[0m\n"
     ]
    }
   ],
   "source": [
    "# Install Checklist and other requirements\n",
    "!pip install checklist\n",
    "!pip install nlp\n",
    "!python -m spacy download en_core_web_sm"
   ]
  },
  {
   "cell_type": "code",
   "execution_count": null,
   "metadata": {},
   "outputs": [],
   "source": [
    "# TODO: Do I need to apply a random seed?\n",
    "\n",
    "\n",
    "import nltk\n",
    "nltk.download('omw-1.4')\n",
    "\n",
    "\n",
    "import checklist\n",
    "from checklist.editor import Editor\n",
    "from checklist.perturb import Perturb\n",
    "from checklist.test_types import MFT, INV, DIR\n",
    "from checklist.test_suite import TestSuite\n",
    "from checklist.expect import Expect\n",
    "\n",
    "import sys\n",
    "import spacy\n",
    "import numpy as np\n",
    "processor = spacy.load('en_core_web_sm')\n",
    "\n",
    "from transformers import pipeline, AutoTokenizer, AutoModelForSequenceClassification\n",
    "import torch\n",
    "model_name = \"textattack/bert-base-uncased-QQP\"     # TODO: Replace line\n",
    "tokenizer = AutoTokenizer.from_pretrained(model_name)   # TODO: Replace line\n",
    "model = AutoModelForSequenceClassification.from_pretrained(model_name)  # TODO: Replace line\n",
    "# sentiment analysis is a general name in Huggingface to load the pipeline for text classification tasks.\n",
    "# set device=-1 if you don't have a gpu\n",
    "pipe = pipeline(\"sentiment-analysis\", model=model, tokenizer=tokenizer, framework=\"pt\", device=0)"
   ]
  },
  {
   "cell_type": "markdown",
   "metadata": {},
   "source": [
    "Load the dataset"
   ]
  },
  {
   "cell_type": "code",
   "execution_count": null,
   "metadata": {},
   "outputs": [],
   "source": [
    "# TODO: Alter this cell to load our data in the same format\n",
    "\n",
    "from nlp import load_dataset\n",
    "qqp_data = load_dataset('glue', 'qqp', split='validation')\n",
    "all_questions = set()\n",
    "q1s = [d[\"question1\"] for d in qqp_data]\n",
    "q2s = [d[\"question2\"] for d in qqp_data]\n",
    "labels = np.array([d[\"label\"] for d in qqp_data]).astype(int)\n",
    "\n",
    "qs = list(zip(q1s, q2s))\n",
    "qqp_data[0]"
   ]
  },
  {
   "cell_type": "markdown",
   "metadata": {},
   "source": [
    "Preprocess all the questions with spacy.  This may take some time."
   ]
  },
  {
   "cell_type": "code",
   "execution_count": null,
   "metadata": {},
   "outputs": [],
   "source": [
    "from tqdm import tqdm\n",
    "all_questions.update(set(q1s))\n",
    "all_questions.update(set(q2s))\n",
    "print(f\"Total count of unique questions: {len(all_questions)}\")\n",
    "processed_qs = list(tqdm(processor.pipe(all_questions, batch_size=64)))"
   ]
  },
  {
   "cell_type": "code",
   "execution_count": null,
   "metadata": {},
   "outputs": [],
   "source": [
    "spacy_map = {q: processed_q for (q, processed_q) in zip(all_questions, processed_qs)}\n",
    "parsed_qs = [(spacy_map[q[0]], spacy_map[q[1]]) for q in qs]"
   ]
  },
  {
   "cell_type": "markdown",
   "metadata": {},
   "source": [
    "## Build the CheckList matrix"
   ]
  },
  {
   "cell_type": "code",
   "execution_count": null,
   "metadata": {},
   "outputs": [],
   "source": [
    "# TODO: Pick up here"
   ]
  }
 ],
 "metadata": {
  "kernelspec": {
   "display_name": "Python 3 (ORC)",
   "language": "python",
   "name": "sys_python3"
  },
  "language_info": {
   "codemirror_mode": {
    "name": "ipython",
    "version": 3
   },
   "file_extension": ".py",
   "mimetype": "text/x-python",
   "name": "python",
   "nbconvert_exporter": "python",
   "pygments_lexer": "ipython3",
   "version": "3.9.9"
  }
 },
 "nbformat": 4,
 "nbformat_minor": 2
}
